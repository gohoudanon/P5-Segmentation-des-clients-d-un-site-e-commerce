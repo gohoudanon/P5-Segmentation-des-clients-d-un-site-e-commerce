{
 "cells": [
  {
   "cell_type": "markdown",
   "metadata": {},
   "source": [
    "# Essais : RFM - KMEANS - DBSCAN - AgglomerativeClustering"
   ]
  },
  {
   "cell_type": "markdown",
   "metadata": {},
   "source": [
    "# sommaire\n",
    "\n",
    "\n",
    "- **1. Importation des librairies**\n",
    "\n",
    "- **2. Datasets Commandes et clients** \n",
    "\n",
    "- **3. Application du modèle RFM**\n",
    "\n",
    "\n",
    "- **4. Application des modèles clustering à l'ensemble des données**\n",
    "\n",
    "-   4.1. Recherche des meilleurs hyperparamètres (Kmeans)\n",
    "-   4.1. Recherche des meilleurs hyperparamètres (DBSCAN)\n",
    "-   4.1. Recherche des meilleurs hyperparamètres (Hierarchical Clustering)\n",
    "\n",
    "\n",
    "- **5. Application du modèle KMEANS**\n",
    "-   5.1. Pipelines de modélisation\n",
    "-   5.2. Segmentation selon le comportement des clients (Kmeans)\n",
    "-   5.3. Heatmap Kmeans\n",
    "\n",
    "\n",
    "- **5. Test de stabilité des modèles**\n",
    "\n",
    "-   5.1. Dataframe de départ\n",
    "-   5.2. Calcul du coefficient ARI\n",
    "-   6.3. Comparaison de la stabilité des clusters\n",
    "\n",
    "\n",
    "\n",
    "***"
   ]
  },
  {
   "cell_type": "markdown",
   "metadata": {},
   "source": [
    "# 1 - Importation des librairies"
   ]
  },
  {
   "cell_type": "code",
   "execution_count": 3,
   "metadata": {},
   "outputs": [],
   "source": [
    "import pandas as pd\n",
    "import numpy as np\n",
    "import matplotlib.pyplot as plt\n",
    "import seaborn as sns\n",
    "from functools import reduce\n",
    "\n",
    "from sklearn.compose import ColumnTransformer\n",
    "from sklearn.preprocessing import FunctionTransformer\n",
    "from sklearn.pipeline import Pipeline\n",
    "from sklearn.impute import SimpleImputer\n",
    "\n",
    "from yellowbrick.cluster import KElbowVisualizer, SilhouetteVisualizer\n",
    "from sklearn.cluster import AgglomerativeClustering\n",
    "from sklearn.cluster import KMeans\n",
    "from sklearn.cluster import DBSCAN\n",
    "from sklearn.metrics import silhouette_score\n",
    "from sklearn.preprocessing import StandardScaler\n",
    "from sklearn.metrics import davies_bouldin_score\n",
    "from sklearn.metrics import calinski_harabasz_score\n",
    "from sklearn.metrics import adjusted_rand_score"
   ]
  },
  {
   "cell_type": "markdown",
   "metadata": {},
   "source": [
    "# 2 - Datasets Commandes et Clients"
   ]
  },
  {
   "cell_type": "markdown",
   "metadata": {},
   "source": [
    "## 2.1 - Importation des données"
   ]
  },
  {
   "cell_type": "code",
   "execution_count": 4,
   "metadata": {},
   "outputs": [],
   "source": [
    "# Importation des données\n",
    "df_customers = pd.read_csv('olist_customers_dataset.csv', usecols=['customer_id',\n",
    "                                                                   'customer_unique_id',\n",
    "                                                                   'customer_state'])\n",
    "\n",
    "df_orders = pd.read_csv('olist_orders_dataset.csv', usecols=['order_id', 'customer_id',\n",
    "                                                             'order_status',\n",
    "                                                             'order_purchase_timestamp',\n",
    "                                                             'order_approved_at',\n",
    "                                                             'order_delivered_customer_date',\n",
    "                                                             'order_estimated_delivery_date'])\n",
    "\n",
    "df_order_items = pd.read_csv('olist_order_items_dataset.csv', usecols=['order_id', 'price',\n",
    "                                                                       'product_id',\n",
    "                                                                       'order_item_id'])\n",
    "\n",
    "df_order_reviews = pd.read_csv('olist_order_reviews_dataset.csv', usecols=[\n",
    "                               'order_id', 'review_score'])\n",
    "\n",
    "df_order_payments = pd.read_csv('olist_order_payments_dataset.csv', usecols=[\n",
    "                                'order_id', 'payment_value'])"
   ]
  },
  {
   "cell_type": "markdown",
   "metadata": {},
   "source": [
    "## 2.2 - Regroupement des données utiles"
   ]
  },
  {
   "cell_type": "code",
   "execution_count": 5,
   "metadata": {},
   "outputs": [
    {
     "name": "stdout",
     "output_type": "stream",
     "text": [
      "<class 'pandas.core.frame.DataFrame'>\n",
      "Int64Index: 117741 entries, 0 to 119142\n",
      "Data columns (total 15 columns):\n",
      " #   Column                         Non-Null Count   Dtype         \n",
      "---  ------                         --------------   -----         \n",
      " 0   order_id                       117741 non-null  object        \n",
      " 1   customer_id                    117741 non-null  object        \n",
      " 2   order_status                   117741 non-null  object        \n",
      " 3   order_purchase_timestamp       117741 non-null  object        \n",
      " 4   order_approved_at              117721 non-null  datetime64[ns]\n",
      " 5   order_delivered_customer_date  115715 non-null  datetime64[ns]\n",
      " 6   order_estimated_delivery_date  117741 non-null  datetime64[ns]\n",
      " 7   order_item_id                  117733 non-null  float64       \n",
      " 8   product_id                     117733 non-null  object        \n",
      " 9   price                          117733 non-null  float64       \n",
      " 10  review_score                   116778 non-null  float64       \n",
      " 11  payment_value                  117738 non-null  float64       \n",
      " 12  customer_unique_id             117741 non-null  object        \n",
      " 13  customer_state                 117741 non-null  object        \n",
      " 14  temps de livraison             115700 non-null  float64       \n",
      "dtypes: datetime64[ns](3), float64(5), object(7)\n",
      "memory usage: 14.4+ MB\n"
     ]
    }
   ],
   "source": [
    "# Jointure des données\n",
    "df_1 = [df_orders, df_order_items, df_order_reviews, df_order_payments]\n",
    "all_df = reduce(lambda left, right: pd.merge(\n",
    "    left, right, on='order_id', how='outer'), df_1)\n",
    "all_df = pd.merge(all_df, df_customers, on='customer_id', how='outer')\n",
    "\n",
    "# Filtre des commandes annulées\n",
    "all_df = all_df[(all_df.order_status != 'canceled') &\n",
    "                (all_df.order_status != 'unavailable')]\n",
    "\n",
    "# Mise au format Datetime des colonnes de dates\n",
    "variables_temps = ['order_approved_at',\n",
    "                   'order_delivered_customer_date', 'order_estimated_delivery_date']\n",
    "\n",
    "for i in variables_temps:\n",
    "    all_df[i] = pd.to_datetime(all_df[i], errors='coerce').dt.normalize()\n",
    "\n",
    "# Création d'une colonne temps de livraison\n",
    "all_df['temps de livraison'] = (\n",
    "    all_df['order_delivered_customer_date'] - all_df['order_approved_at']).dt.days\n",
    "\n",
    "# Pour certaines valeurs, le temps de livraison est négatif\n",
    "all_df['temps de livraison'] = np.where(\n",
    "    all_df['temps de livraison'] < 0, 0, all_df['temps de livraison'])\n",
    "\n",
    "all_df.info()"
   ]
  },
  {
   "cell_type": "markdown",
   "metadata": {},
   "source": [
    "## 2.3 - Detection et suppression des outliers"
   ]
  },
  {
   "cell_type": "code",
   "execution_count": 6,
   "metadata": {},
   "outputs": [],
   "source": [
    "from sklearn.neighbors import LocalOutlierFactor\n",
    "\n",
    "\n",
    "def supp_outliers_univaries(dataframe):\n",
    " # exclusion du centile le plus extreme\n",
    "\n",
    "    # valeurs extremes\n",
    "    index_nan = []\n",
    "    index_nan_flat = []\n",
    "    for column in dataframe.select_dtypes(include=['int32', 'float64']).columns.tolist():\n",
    "\n",
    "        index_nan.append(dataframe.loc[dataframe[column] > dataframe[\n",
    "            column].quantile(0.99)].index.tolist())\n",
    "        index_nan.append(dataframe.loc[dataframe[column] < dataframe[\n",
    "            column].quantile(0.01)].index.tolist())\n",
    "\n",
    "    for sublist in index_nan:\n",
    "        for item in sublist:\n",
    "            index_nan_flat.append(item)\n",
    "\n",
    "    # suppression des doublons\n",
    "    index_nan_flat = list(dict.fromkeys(index_nan_flat))\n",
    "    dataframe[column].loc[index_nan_flat] = np.nan\n",
    "\n",
    "    return dataframe.dropna(axis=0)\n",
    "\n",
    "\n",
    "def supp_outliers_multivaries(dataframe):\n",
    "    # Suppression des outliers multivariés\n",
    "\n",
    "    lof = LocalOutlierFactor(n_neighbors=5, n_jobs=-1)\n",
    "    lof.fit_predict(dataframe.select_dtypes(['float64', 'int32']).dropna())\n",
    "    indices = dataframe.select_dtypes(['float64', 'int32']).dropna().index\n",
    "    df_lof = pd.DataFrame(index=indices,\n",
    "                          data=lof.negative_outlier_factor_, columns=['lof'])\n",
    "    index_to_drop = df_lof[df_lof['lof'] < np.quantile(\n",
    "        lof.negative_outlier_factor_, 0.01)].index\n",
    "    return dataframe.drop(index_to_drop, axis=0)\n",
    "\n",
    "\n",
    "def clean_dataset(dataframe):\n",
    "    dataframe = supp_outliers_univaries(dataframe)\n",
    "\n",
    "    dataframe = supp_outliers_multivaries(dataframe)\n",
    "    return dataframe"
   ]
  },
  {
   "cell_type": "code",
   "execution_count": 7,
   "metadata": {},
   "outputs": [
    {
     "name": "stdout",
     "output_type": "stream",
     "text": [
      "Taille du jeu de données pré-nettoyage outliers :  (117741, 15)\n"
     ]
    },
    {
     "name": "stderr",
     "output_type": "stream",
     "text": [
      "/var/folders/__/sl6gcy7s7r9d0cg0vj7xhw800000gn/T/ipykernel_4420/2484188642.py:23: SettingWithCopyWarning: \n",
      "A value is trying to be set on a copy of a slice from a DataFrame\n",
      "\n",
      "See the caveats in the documentation: https://pandas.pydata.org/pandas-docs/stable/user_guide/indexing.html#returning-a-view-versus-a-copy\n",
      "  dataframe[column].loc[index_nan_flat] = np.nan\n"
     ]
    },
    {
     "name": "stdout",
     "output_type": "stream",
     "text": [
      "Taille du jeu de données post-nettoyage outliers :  (108116, 15)\n"
     ]
    }
   ],
   "source": [
    "# Nettoyage des outliers\n",
    "print('Taille du jeu de données pré-nettoyage outliers : ', all_df.shape)\n",
    "all_df = clean_dataset(all_df)\n",
    "print('Taille du jeu de données post-nettoyage outliers : ', all_df.shape)"
   ]
  },
  {
   "cell_type": "code",
   "execution_count": 6,
   "metadata": {},
   "outputs": [],
   "source": [
    "all_df.to_csv('new_all_df.csv')"
   ]
  },
  {
   "cell_type": "code",
   "execution_count": 8,
   "metadata": {},
   "outputs": [
    {
     "name": "stdout",
     "output_type": "stream",
     "text": [
      "<class 'pandas.core.frame.DataFrame'>\n",
      "Int64Index: 108116 entries, 0 to 119142\n",
      "Data columns (total 15 columns):\n",
      " #   Column                         Non-Null Count   Dtype         \n",
      "---  ------                         --------------   -----         \n",
      " 0   order_id                       108116 non-null  object        \n",
      " 1   customer_id                    108116 non-null  object        \n",
      " 2   order_status                   108116 non-null  object        \n",
      " 3   order_purchase_timestamp       108116 non-null  object        \n",
      " 4   order_approved_at              108116 non-null  datetime64[ns]\n",
      " 5   order_delivered_customer_date  108116 non-null  datetime64[ns]\n",
      " 6   order_estimated_delivery_date  108116 non-null  datetime64[ns]\n",
      " 7   order_item_id                  108116 non-null  float64       \n",
      " 8   product_id                     108116 non-null  object        \n",
      " 9   price                          108116 non-null  float64       \n",
      " 10  review_score                   108116 non-null  float64       \n",
      " 11  payment_value                  108116 non-null  float64       \n",
      " 12  customer_unique_id             108116 non-null  object        \n",
      " 13  customer_state                 108116 non-null  object        \n",
      " 14  temps de livraison             108116 non-null  float64       \n",
      "dtypes: datetime64[ns](3), float64(5), object(7)\n",
      "memory usage: 13.2+ MB\n"
     ]
    }
   ],
   "source": [
    "all_df.info()"
   ]
  },
  {
   "cell_type": "markdown",
   "metadata": {},
   "source": [
    "## 2.4 - Dataset Commandes par client"
   ]
  },
  {
   "cell_type": "code",
   "execution_count": 9,
   "metadata": {},
   "outputs": [],
   "source": [
    "# Création du jeu de données par clients et par commande\n",
    "\n",
    "df_Commandes_Clients = all_df[['customer_unique_id',\n",
    "                               'order_id',\n",
    "                               'temps de livraison',\n",
    "                               'review_score',\n",
    "                               'order_approved_at',\n",
    "                               'product_id',\n",
    "                               'payment_value'\n",
    "                               ]]\\\n",
    "    .groupby(['customer_unique_id', 'order_id'])\\\n",
    "    .agg({'temps de livraison': 'mean',\n",
    "          'review_score': 'mean',\n",
    "          'order_approved_at': 'min',\n",
    "          'order_approved_at': 'max',\n",
    "          'product_id': 'count',\n",
    "          'payment_value': 'sum'})\n",
    "\n",
    "df_Commandes_Clients = df_Commandes_Clients.reset_index()"
   ]
  },
  {
   "cell_type": "code",
   "execution_count": 10,
   "metadata": {},
   "outputs": [],
   "source": [
    "df_Commandes_Clients.to_csv('df_Commandes_Clients.csv')"
   ]
  },
  {
   "cell_type": "markdown",
   "metadata": {},
   "source": [
    "## 2.5 - Dataset Clients"
   ]
  },
  {
   "cell_type": "code",
   "execution_count": 12,
   "metadata": {},
   "outputs": [],
   "source": [
    "# Création du jeu de données par clients\n",
    "df_clients = df_Commandes_Clients.groupby('customer_unique_id')\\\n",
    "    .agg({'temps de livraison': 'mean',\n",
    "          'review_score': 'mean',\n",
    "          'order_approved_at': 'min',\n",
    "          'product_id': 'mean',\n",
    "          'payment_value': 'sum'}).round(2)\n",
    "\n",
    "df_clients.columns = ['temps_de_livraison',\n",
    "                      'note_moyenne_client',\n",
    "                      'premiere_commande',\n",
    "                      'nb_articles',\n",
    "                      'depenses_totales']\n",
    "\n",
    "# Date de la dernière commande\n",
    "df_clients['derniere_commande'] = df_Commandes_Clients.groupby(\n",
    "    'customer_unique_id').agg({'order_approved_at': 'max'})\n",
    "\n",
    "# Récence (date du jour - date du dernier achat)\n",
    "df_clients['recence'] = (\n",
    "    df_clients[\"derniere_commande\"].max() - df_clients['derniere_commande']).dt.days\n",
    "\n",
    "# nombre de commande totale\n",
    "df_clients['nb_commandes'] = df_Commandes_Clients.groupby(\n",
    "    'customer_unique_id').agg({'order_id': 'count'})\n",
    "\n",
    "# nombre moyen d'article par panier\n",
    "# df_clients['nb_articles'] = df_Commandes_Clients.groupby(\n",
    "# 'customer_unique_id').agg({'product_id': 'mean'}).round(2)\n",
    "\n",
    "\n",
    "df_clients = df_clients.reset_index('customer_unique_id')"
   ]
  },
  {
   "cell_type": "code",
   "execution_count": 49,
   "metadata": {},
   "outputs": [],
   "source": [
    "df_clients.to_csv('df_clients.csv') "
   ]
  },
  {
   "cell_type": "code",
   "execution_count": 13,
   "metadata": {},
   "outputs": [
    {
     "name": "stdout",
     "output_type": "stream",
     "text": [
      "<class 'pandas.core.frame.DataFrame'>\n",
      "RangeIndex: 89122 entries, 0 to 89121\n",
      "Data columns (total 9 columns):\n",
      " #   Column               Non-Null Count  Dtype         \n",
      "---  ------               --------------  -----         \n",
      " 0   customer_unique_id   89122 non-null  object        \n",
      " 1   temps_de_livraison   89122 non-null  float64       \n",
      " 2   note_moyenne_client  89122 non-null  float64       \n",
      " 3   premiere_commande    89122 non-null  datetime64[ns]\n",
      " 4   nb_articles          89122 non-null  float64       \n",
      " 5   depenses_totales     89122 non-null  float64       \n",
      " 6   derniere_commande    89122 non-null  datetime64[ns]\n",
      " 7   recence              89122 non-null  int64         \n",
      " 8   nb_commandes         89122 non-null  int64         \n",
      "dtypes: datetime64[ns](2), float64(4), int64(2), object(1)\n",
      "memory usage: 6.1+ MB\n"
     ]
    }
   ],
   "source": [
    "df_clients.info()"
   ]
  },
  {
   "cell_type": "code",
   "execution_count": 11,
   "metadata": {},
   "outputs": [
    {
     "data": {
      "text/html": [
       "<div>\n",
       "<style scoped>\n",
       "    .dataframe tbody tr th:only-of-type {\n",
       "        vertical-align: middle;\n",
       "    }\n",
       "\n",
       "    .dataframe tbody tr th {\n",
       "        vertical-align: top;\n",
       "    }\n",
       "\n",
       "    .dataframe thead th {\n",
       "        text-align: right;\n",
       "    }\n",
       "</style>\n",
       "<table border=\"1\" class=\"dataframe\">\n",
       "  <thead>\n",
       "    <tr style=\"text-align: right;\">\n",
       "      <th></th>\n",
       "      <th>customer_unique_id</th>\n",
       "      <th>temps_de_livraison</th>\n",
       "      <th>note_moyenne_client</th>\n",
       "      <th>premiere_commande</th>\n",
       "      <th>nb_articles</th>\n",
       "      <th>depenses_totales</th>\n",
       "      <th>derniere_commande</th>\n",
       "      <th>recence</th>\n",
       "      <th>nb_commandes</th>\n",
       "    </tr>\n",
       "  </thead>\n",
       "  <tbody>\n",
       "    <tr>\n",
       "      <th>43467</th>\n",
       "      <td>7cc23ec3506e4e1e67d0702da04a734c</td>\n",
       "      <td>13.5</td>\n",
       "      <td>4.0</td>\n",
       "      <td>2017-03-27</td>\n",
       "      <td>1.0</td>\n",
       "      <td>248.91</td>\n",
       "      <td>2017-07-05</td>\n",
       "      <td>420</td>\n",
       "      <td>2</td>\n",
       "    </tr>\n",
       "    <tr>\n",
       "      <th>41847</th>\n",
       "      <td>7828a4a1ee004bbe6665cbffbc4bf2d9</td>\n",
       "      <td>10.5</td>\n",
       "      <td>5.0</td>\n",
       "      <td>2017-04-21</td>\n",
       "      <td>1.0</td>\n",
       "      <td>309.10</td>\n",
       "      <td>2018-02-12</td>\n",
       "      <td>198</td>\n",
       "      <td>2</td>\n",
       "    </tr>\n",
       "    <tr>\n",
       "      <th>38717</th>\n",
       "      <td>6f14e7220dd419f2659f0aaf9430d9af</td>\n",
       "      <td>16.0</td>\n",
       "      <td>4.0</td>\n",
       "      <td>2018-01-18</td>\n",
       "      <td>1.0</td>\n",
       "      <td>169.49</td>\n",
       "      <td>2018-01-18</td>\n",
       "      <td>223</td>\n",
       "      <td>1</td>\n",
       "    </tr>\n",
       "    <tr>\n",
       "      <th>30263</th>\n",
       "      <td>56cadfbcce7a707b158951162eca579c</td>\n",
       "      <td>8.0</td>\n",
       "      <td>4.0</td>\n",
       "      <td>2017-06-08</td>\n",
       "      <td>1.0</td>\n",
       "      <td>106.37</td>\n",
       "      <td>2017-06-08</td>\n",
       "      <td>447</td>\n",
       "      <td>1</td>\n",
       "    </tr>\n",
       "    <tr>\n",
       "      <th>40390</th>\n",
       "      <td>73e271fccfec74f2ecb75f9b05802f84</td>\n",
       "      <td>18.0</td>\n",
       "      <td>5.0</td>\n",
       "      <td>2018-02-02</td>\n",
       "      <td>1.0</td>\n",
       "      <td>55.09</td>\n",
       "      <td>2018-02-02</td>\n",
       "      <td>208</td>\n",
       "      <td>1</td>\n",
       "    </tr>\n",
       "    <tr>\n",
       "      <th>56100</th>\n",
       "      <td>a116036ad9da1e3e370a467c4e325250</td>\n",
       "      <td>18.0</td>\n",
       "      <td>1.0</td>\n",
       "      <td>2018-01-08</td>\n",
       "      <td>1.0</td>\n",
       "      <td>212.02</td>\n",
       "      <td>2018-01-08</td>\n",
       "      <td>233</td>\n",
       "      <td>1</td>\n",
       "    </tr>\n",
       "    <tr>\n",
       "      <th>42279</th>\n",
       "      <td>795ec127906a9e161109399a70f5826d</td>\n",
       "      <td>14.0</td>\n",
       "      <td>5.0</td>\n",
       "      <td>2017-04-27</td>\n",
       "      <td>1.0</td>\n",
       "      <td>50.86</td>\n",
       "      <td>2017-04-27</td>\n",
       "      <td>489</td>\n",
       "      <td>1</td>\n",
       "    </tr>\n",
       "    <tr>\n",
       "      <th>85539</th>\n",
       "      <td>f589582f398e43a5d9bb98c7da598ed6</td>\n",
       "      <td>4.0</td>\n",
       "      <td>1.0</td>\n",
       "      <td>2017-11-24</td>\n",
       "      <td>1.0</td>\n",
       "      <td>65.71</td>\n",
       "      <td>2017-11-24</td>\n",
       "      <td>278</td>\n",
       "      <td>1</td>\n",
       "    </tr>\n",
       "    <tr>\n",
       "      <th>20494</th>\n",
       "      <td>3aabcd46c57fb8f84030d1c1e7962bf7</td>\n",
       "      <td>27.0</td>\n",
       "      <td>3.0</td>\n",
       "      <td>2018-06-06</td>\n",
       "      <td>1.0</td>\n",
       "      <td>77.99</td>\n",
       "      <td>2018-06-06</td>\n",
       "      <td>84</td>\n",
       "      <td>1</td>\n",
       "    </tr>\n",
       "    <tr>\n",
       "      <th>5345</th>\n",
       "      <td>0f4435f8973c32a5ffe9fd128d096561</td>\n",
       "      <td>23.0</td>\n",
       "      <td>1.0</td>\n",
       "      <td>2017-08-05</td>\n",
       "      <td>1.0</td>\n",
       "      <td>178.84</td>\n",
       "      <td>2017-08-05</td>\n",
       "      <td>389</td>\n",
       "      <td>1</td>\n",
       "    </tr>\n",
       "    <tr>\n",
       "      <th>36424</th>\n",
       "      <td>6862d03f05e92945f47da75b216cd955</td>\n",
       "      <td>4.0</td>\n",
       "      <td>5.0</td>\n",
       "      <td>2018-07-07</td>\n",
       "      <td>2.0</td>\n",
       "      <td>161.56</td>\n",
       "      <td>2018-07-07</td>\n",
       "      <td>53</td>\n",
       "      <td>1</td>\n",
       "    </tr>\n",
       "    <tr>\n",
       "      <th>59123</th>\n",
       "      <td>a9b3e69e5ac5c7701a41485dca5783d9</td>\n",
       "      <td>27.0</td>\n",
       "      <td>5.0</td>\n",
       "      <td>2017-08-11</td>\n",
       "      <td>1.0</td>\n",
       "      <td>188.20</td>\n",
       "      <td>2017-08-11</td>\n",
       "      <td>383</td>\n",
       "      <td>1</td>\n",
       "    </tr>\n",
       "    <tr>\n",
       "      <th>44654</th>\n",
       "      <td>80223ef359d6c077926ffa46568bec0f</td>\n",
       "      <td>1.0</td>\n",
       "      <td>5.0</td>\n",
       "      <td>2018-08-21</td>\n",
       "      <td>1.0</td>\n",
       "      <td>25.72</td>\n",
       "      <td>2018-08-21</td>\n",
       "      <td>8</td>\n",
       "      <td>1</td>\n",
       "    </tr>\n",
       "    <tr>\n",
       "      <th>42166</th>\n",
       "      <td>790f16f269557b8282bc1481f9e8247f</td>\n",
       "      <td>34.0</td>\n",
       "      <td>1.0</td>\n",
       "      <td>2018-03-07</td>\n",
       "      <td>1.0</td>\n",
       "      <td>73.96</td>\n",
       "      <td>2018-03-07</td>\n",
       "      <td>175</td>\n",
       "      <td>1</td>\n",
       "    </tr>\n",
       "    <tr>\n",
       "      <th>5101</th>\n",
       "      <td>0e99adb68574d4968821814b9610ec23</td>\n",
       "      <td>24.0</td>\n",
       "      <td>4.0</td>\n",
       "      <td>2017-12-06</td>\n",
       "      <td>1.0</td>\n",
       "      <td>111.73</td>\n",
       "      <td>2017-12-06</td>\n",
       "      <td>266</td>\n",
       "      <td>1</td>\n",
       "    </tr>\n",
       "    <tr>\n",
       "      <th>22229</th>\n",
       "      <td>3fa4a92541ef6c8fbf23dfce89e1bfb7</td>\n",
       "      <td>4.0</td>\n",
       "      <td>5.0</td>\n",
       "      <td>2018-08-20</td>\n",
       "      <td>1.0</td>\n",
       "      <td>96.57</td>\n",
       "      <td>2018-08-20</td>\n",
       "      <td>9</td>\n",
       "      <td>1</td>\n",
       "    </tr>\n",
       "    <tr>\n",
       "      <th>69332</th>\n",
       "      <td>c7035f751d6dbf8da134389d772362f9</td>\n",
       "      <td>8.0</td>\n",
       "      <td>5.0</td>\n",
       "      <td>2018-01-09</td>\n",
       "      <td>1.0</td>\n",
       "      <td>180.90</td>\n",
       "      <td>2018-01-09</td>\n",
       "      <td>232</td>\n",
       "      <td>1</td>\n",
       "    </tr>\n",
       "    <tr>\n",
       "      <th>84130</th>\n",
       "      <td>f18202c36547054e660a5bbf648ed749</td>\n",
       "      <td>10.0</td>\n",
       "      <td>3.0</td>\n",
       "      <td>2017-10-25</td>\n",
       "      <td>1.0</td>\n",
       "      <td>79.06</td>\n",
       "      <td>2017-10-25</td>\n",
       "      <td>308</td>\n",
       "      <td>1</td>\n",
       "    </tr>\n",
       "    <tr>\n",
       "      <th>21118</th>\n",
       "      <td>3c7d174ebe16d6f127f8eaa18518e757</td>\n",
       "      <td>19.0</td>\n",
       "      <td>5.0</td>\n",
       "      <td>2018-08-04</td>\n",
       "      <td>1.0</td>\n",
       "      <td>68.25</td>\n",
       "      <td>2018-08-04</td>\n",
       "      <td>25</td>\n",
       "      <td>1</td>\n",
       "    </tr>\n",
       "    <tr>\n",
       "      <th>49682</th>\n",
       "      <td>8f08cce7e75004fb904db0a3fc1fb800</td>\n",
       "      <td>7.0</td>\n",
       "      <td>5.0</td>\n",
       "      <td>2017-03-20</td>\n",
       "      <td>1.0</td>\n",
       "      <td>33.51</td>\n",
       "      <td>2017-03-20</td>\n",
       "      <td>527</td>\n",
       "      <td>1</td>\n",
       "    </tr>\n",
       "  </tbody>\n",
       "</table>\n",
       "</div>"
      ],
      "text/plain": [
       "                     customer_unique_id  temps_de_livraison  \\\n",
       "43467  7cc23ec3506e4e1e67d0702da04a734c                13.5   \n",
       "41847  7828a4a1ee004bbe6665cbffbc4bf2d9                10.5   \n",
       "38717  6f14e7220dd419f2659f0aaf9430d9af                16.0   \n",
       "30263  56cadfbcce7a707b158951162eca579c                 8.0   \n",
       "40390  73e271fccfec74f2ecb75f9b05802f84                18.0   \n",
       "56100  a116036ad9da1e3e370a467c4e325250                18.0   \n",
       "42279  795ec127906a9e161109399a70f5826d                14.0   \n",
       "85539  f589582f398e43a5d9bb98c7da598ed6                 4.0   \n",
       "20494  3aabcd46c57fb8f84030d1c1e7962bf7                27.0   \n",
       "5345   0f4435f8973c32a5ffe9fd128d096561                23.0   \n",
       "36424  6862d03f05e92945f47da75b216cd955                 4.0   \n",
       "59123  a9b3e69e5ac5c7701a41485dca5783d9                27.0   \n",
       "44654  80223ef359d6c077926ffa46568bec0f                 1.0   \n",
       "42166  790f16f269557b8282bc1481f9e8247f                34.0   \n",
       "5101   0e99adb68574d4968821814b9610ec23                24.0   \n",
       "22229  3fa4a92541ef6c8fbf23dfce89e1bfb7                 4.0   \n",
       "69332  c7035f751d6dbf8da134389d772362f9                 8.0   \n",
       "84130  f18202c36547054e660a5bbf648ed749                10.0   \n",
       "21118  3c7d174ebe16d6f127f8eaa18518e757                19.0   \n",
       "49682  8f08cce7e75004fb904db0a3fc1fb800                 7.0   \n",
       "\n",
       "       note_moyenne_client premiere_commande  nb_articles  depenses_totales  \\\n",
       "43467                  4.0        2017-03-27          1.0            248.91   \n",
       "41847                  5.0        2017-04-21          1.0            309.10   \n",
       "38717                  4.0        2018-01-18          1.0            169.49   \n",
       "30263                  4.0        2017-06-08          1.0            106.37   \n",
       "40390                  5.0        2018-02-02          1.0             55.09   \n",
       "56100                  1.0        2018-01-08          1.0            212.02   \n",
       "42279                  5.0        2017-04-27          1.0             50.86   \n",
       "85539                  1.0        2017-11-24          1.0             65.71   \n",
       "20494                  3.0        2018-06-06          1.0             77.99   \n",
       "5345                   1.0        2017-08-05          1.0            178.84   \n",
       "36424                  5.0        2018-07-07          2.0            161.56   \n",
       "59123                  5.0        2017-08-11          1.0            188.20   \n",
       "44654                  5.0        2018-08-21          1.0             25.72   \n",
       "42166                  1.0        2018-03-07          1.0             73.96   \n",
       "5101                   4.0        2017-12-06          1.0            111.73   \n",
       "22229                  5.0        2018-08-20          1.0             96.57   \n",
       "69332                  5.0        2018-01-09          1.0            180.90   \n",
       "84130                  3.0        2017-10-25          1.0             79.06   \n",
       "21118                  5.0        2018-08-04          1.0             68.25   \n",
       "49682                  5.0        2017-03-20          1.0             33.51   \n",
       "\n",
       "      derniere_commande  recence  nb_commandes  \n",
       "43467        2017-07-05      420             2  \n",
       "41847        2018-02-12      198             2  \n",
       "38717        2018-01-18      223             1  \n",
       "30263        2017-06-08      447             1  \n",
       "40390        2018-02-02      208             1  \n",
       "56100        2018-01-08      233             1  \n",
       "42279        2017-04-27      489             1  \n",
       "85539        2017-11-24      278             1  \n",
       "20494        2018-06-06       84             1  \n",
       "5345         2017-08-05      389             1  \n",
       "36424        2018-07-07       53             1  \n",
       "59123        2017-08-11      383             1  \n",
       "44654        2018-08-21        8             1  \n",
       "42166        2018-03-07      175             1  \n",
       "5101         2017-12-06      266             1  \n",
       "22229        2018-08-20        9             1  \n",
       "69332        2018-01-09      232             1  \n",
       "84130        2017-10-25      308             1  \n",
       "21118        2018-08-04       25             1  \n",
       "49682        2017-03-20      527             1  "
      ]
     },
     "execution_count": 11,
     "metadata": {},
     "output_type": "execute_result"
    }
   ],
   "source": [
    "df_clients.sample(20)"
   ]
  },
  {
   "cell_type": "code",
   "execution_count": 12,
   "metadata": {},
   "outputs": [
    {
     "data": {
      "text/plain": [
       "Index(['customer_unique_id', 'temps_de_livraison', 'note_moyenne_client',\n",
       "       'premiere_commande', 'nb_articles', 'depenses_totales',\n",
       "       'derniere_commande', 'recence', 'nb_commandes'],\n",
       "      dtype='object')"
      ]
     },
     "execution_count": 12,
     "metadata": {},
     "output_type": "execute_result"
    }
   ],
   "source": [
    "df_clients.columns"
   ]
  },
  {
   "cell_type": "markdown",
   "metadata": {},
   "source": [
    "# 3 - Application du modèle RFM"
   ]
  },
  {
   "cell_type": "code",
   "execution_count": 14,
   "metadata": {},
   "outputs": [],
   "source": [
    "# rename the columns\n",
    "df = df_clients.copy()"
   ]
  },
  {
   "cell_type": "code",
   "execution_count": 15,
   "metadata": {},
   "outputs": [],
   "source": [
    "df = df.rename(columns={'nb_commandes': 'frequence',\n",
    "               'depenses_totales': 'montant'})"
   ]
  },
  {
   "cell_type": "code",
   "execution_count": 16,
   "metadata": {},
   "outputs": [],
   "source": [
    "RFM = df[[\"customer_unique_id\",'recence', 'frequence', 'montant']] "
   ]
  },
  {
   "cell_type": "markdown",
   "metadata": {},
   "source": [
    "- ## RFM quartiles\n",
    "La manière la plus simple de créer des segments de clients à partir du modèle RFM est d'utiliser les quartiles. Nous attribuons un score de 1 à 4 pour la récence, la fréquence et la valeur monétaire. Quatre est la meilleure/valeur la plus élevée et un est la plus mauvaise/valeur la plus basse. Un score final RFM est calculé simplement en combinant les chiffres de score individuels RFM."
   ]
  },
  {
   "cell_type": "code",
   "execution_count": 16,
   "metadata": {},
   "outputs": [
    {
     "data": {
      "text/html": [
       "<div>\n",
       "<style scoped>\n",
       "    .dataframe tbody tr th:only-of-type {\n",
       "        vertical-align: middle;\n",
       "    }\n",
       "\n",
       "    .dataframe tbody tr th {\n",
       "        vertical-align: top;\n",
       "    }\n",
       "\n",
       "    .dataframe thead th {\n",
       "        text-align: right;\n",
       "    }\n",
       "</style>\n",
       "<table border=\"1\" class=\"dataframe\">\n",
       "  <thead>\n",
       "    <tr style=\"text-align: right;\">\n",
       "      <th></th>\n",
       "      <th>customer_unique_id</th>\n",
       "      <th>recence</th>\n",
       "      <th>frequence</th>\n",
       "      <th>montant</th>\n",
       "    </tr>\n",
       "  </thead>\n",
       "  <tbody>\n",
       "    <tr>\n",
       "      <th>0</th>\n",
       "      <td>0000366f3b9a7992bf8c76cfdf3221e2</td>\n",
       "      <td>111</td>\n",
       "      <td>1</td>\n",
       "      <td>141.90</td>\n",
       "    </tr>\n",
       "    <tr>\n",
       "      <th>1</th>\n",
       "      <td>0000b849f77a49e4a4ce2b2a4ca5be3f</td>\n",
       "      <td>114</td>\n",
       "      <td>1</td>\n",
       "      <td>27.19</td>\n",
       "    </tr>\n",
       "    <tr>\n",
       "      <th>2</th>\n",
       "      <td>0000f46a3911fa3c0805444483337064</td>\n",
       "      <td>537</td>\n",
       "      <td>1</td>\n",
       "      <td>86.22</td>\n",
       "    </tr>\n",
       "  </tbody>\n",
       "</table>\n",
       "</div>"
      ],
      "text/plain": [
       "                 customer_unique_id  recence  frequence  montant\n",
       "0  0000366f3b9a7992bf8c76cfdf3221e2      111          1   141.90\n",
       "1  0000b849f77a49e4a4ce2b2a4ca5be3f      114          1    27.19\n",
       "2  0000f46a3911fa3c0805444483337064      537          1    86.22"
      ]
     },
     "execution_count": 16,
     "metadata": {},
     "output_type": "execute_result"
    }
   ],
   "source": [
    "RFM.head(3)"
   ]
  },
  {
   "cell_type": "code",
   "execution_count": 17,
   "metadata": {},
   "outputs": [
    {
     "data": {
      "text/html": [
       "<div>\n",
       "<style scoped>\n",
       "    .dataframe tbody tr th:only-of-type {\n",
       "        vertical-align: middle;\n",
       "    }\n",
       "\n",
       "    .dataframe tbody tr th {\n",
       "        vertical-align: top;\n",
       "    }\n",
       "\n",
       "    .dataframe thead th {\n",
       "        text-align: right;\n",
       "    }\n",
       "</style>\n",
       "<table border=\"1\" class=\"dataframe\">\n",
       "  <thead>\n",
       "    <tr style=\"text-align: right;\">\n",
       "      <th></th>\n",
       "      <th>recence</th>\n",
       "      <th>frequence</th>\n",
       "      <th>montant</th>\n",
       "    </tr>\n",
       "  </thead>\n",
       "  <tbody>\n",
       "    <tr>\n",
       "      <th>0.2</th>\n",
       "      <td>90.0</td>\n",
       "      <td>1.0</td>\n",
       "      <td>56.220</td>\n",
       "    </tr>\n",
       "    <tr>\n",
       "      <th>0.4</th>\n",
       "      <td>176.0</td>\n",
       "      <td>1.0</td>\n",
       "      <td>89.880</td>\n",
       "    </tr>\n",
       "    <tr>\n",
       "      <th>0.6</th>\n",
       "      <td>267.0</td>\n",
       "      <td>1.0</td>\n",
       "      <td>138.986</td>\n",
       "    </tr>\n",
       "    <tr>\n",
       "      <th>0.8</th>\n",
       "      <td>381.0</td>\n",
       "      <td>1.0</td>\n",
       "      <td>230.738</td>\n",
       "    </tr>\n",
       "  </tbody>\n",
       "</table>\n",
       "</div>"
      ],
      "text/plain": [
       "     recence  frequence  montant\n",
       "0.2     90.0        1.0   56.220\n",
       "0.4    176.0        1.0   89.880\n",
       "0.6    267.0        1.0  138.986\n",
       "0.8    381.0        1.0  230.738"
      ]
     },
     "execution_count": 17,
     "metadata": {},
     "output_type": "execute_result"
    }
   ],
   "source": [
    "# Quantiles :\n",
    "\n",
    "quantiles = RFM[['recence',\n",
    "                 'frequence',\n",
    "                 'montant']].quantile([.2, .4, .6, .8])\n",
    "quantiles"
   ]
  },
  {
   "cell_type": "markdown",
   "metadata": {},
   "source": [
    "- ## Table de Segmentation RFM\n",
    "- Notons qu'une valeur elevée de recenc est mauvaise \n",
    "- Les valeurs elevées de frequency et monetary sont meilleures"
   ]
  },
  {
   "cell_type": "code",
   "execution_count": 18,
   "metadata": {},
   "outputs": [],
   "source": [
    "def r_score(x):\n",
    "    if x <= quantiles['recence'][.2]:\n",
    "        return 5\n",
    "    elif x <= quantiles['recence'][.4]:\n",
    "        return 4\n",
    "    elif x <= quantiles['recence'][.6]:\n",
    "        return 3\n",
    "    elif x <= quantiles['recence'][.8]:\n",
    "        return 2\n",
    "    else:\n",
    "        return 1\n",
    "\n",
    "\n",
    "def fm_score(x, c):\n",
    "    if x <= quantiles[c][.2]:\n",
    "        return 1\n",
    "    elif x <= quantiles[c][.4]:\n",
    "        return 2\n",
    "    elif x <= quantiles[c][.6]:\n",
    "        return 3\n",
    "    elif x <= quantiles[c][.8]:\n",
    "        return 4\n",
    "    else:\n",
    "        return 5"
   ]
  },
  {
   "cell_type": "code",
   "execution_count": 19,
   "metadata": {},
   "outputs": [],
   "source": [
    "# Scores pour R, F et M :\n",
    "\n",
    "RFM_RFM = RFM.copy()\n",
    "\n",
    "RFM_RFM['R'] = RFM_RFM['recence'].apply(lambda x: r_score(x))\n",
    "RFM_RFM['F'] = RFM_RFM['frequence'].apply(lambda x: fm_score(x, 'frequence'))\n",
    "RFM_RFM['M'] = RFM_RFM['montant'].apply(lambda x: fm_score(x, 'montant'))"
   ]
  },
  {
   "cell_type": "markdown",
   "metadata": {},
   "source": [
    "- ## Ajout score RFM"
   ]
  },
  {
   "cell_type": "code",
   "execution_count": 28,
   "metadata": {},
   "outputs": [],
   "source": [
    "RFM_RFM_RFMscore = RFM_RFM.copy()"
   ]
  },
  {
   "cell_type": "code",
   "execution_count": 29,
   "metadata": {},
   "outputs": [
    {
     "data": {
      "text/html": [
       "<div>\n",
       "<style scoped>\n",
       "    .dataframe tbody tr th:only-of-type {\n",
       "        vertical-align: middle;\n",
       "    }\n",
       "\n",
       "    .dataframe tbody tr th {\n",
       "        vertical-align: top;\n",
       "    }\n",
       "\n",
       "    .dataframe thead th {\n",
       "        text-align: right;\n",
       "    }\n",
       "</style>\n",
       "<table border=\"1\" class=\"dataframe\">\n",
       "  <thead>\n",
       "    <tr style=\"text-align: right;\">\n",
       "      <th></th>\n",
       "      <th>customer_unique_id</th>\n",
       "      <th>recence</th>\n",
       "      <th>frequence</th>\n",
       "      <th>montant</th>\n",
       "      <th>R</th>\n",
       "      <th>F</th>\n",
       "      <th>M</th>\n",
       "      <th>RFMScore</th>\n",
       "    </tr>\n",
       "  </thead>\n",
       "  <tbody>\n",
       "    <tr>\n",
       "      <th>0</th>\n",
       "      <td>0000366f3b9a7992bf8c76cfdf3221e2</td>\n",
       "      <td>111</td>\n",
       "      <td>1</td>\n",
       "      <td>141.90</td>\n",
       "      <td>4</td>\n",
       "      <td>1</td>\n",
       "      <td>4</td>\n",
       "      <td>414</td>\n",
       "    </tr>\n",
       "    <tr>\n",
       "      <th>1</th>\n",
       "      <td>0000b849f77a49e4a4ce2b2a4ca5be3f</td>\n",
       "      <td>114</td>\n",
       "      <td>1</td>\n",
       "      <td>27.19</td>\n",
       "      <td>4</td>\n",
       "      <td>1</td>\n",
       "      <td>1</td>\n",
       "      <td>411</td>\n",
       "    </tr>\n",
       "    <tr>\n",
       "      <th>2</th>\n",
       "      <td>0000f46a3911fa3c0805444483337064</td>\n",
       "      <td>537</td>\n",
       "      <td>1</td>\n",
       "      <td>86.22</td>\n",
       "      <td>1</td>\n",
       "      <td>1</td>\n",
       "      <td>2</td>\n",
       "      <td>112</td>\n",
       "    </tr>\n",
       "    <tr>\n",
       "      <th>3</th>\n",
       "      <td>0000f6ccb0745a6a4b88665a16c9f078</td>\n",
       "      <td>321</td>\n",
       "      <td>1</td>\n",
       "      <td>43.62</td>\n",
       "      <td>2</td>\n",
       "      <td>1</td>\n",
       "      <td>1</td>\n",
       "      <td>211</td>\n",
       "    </tr>\n",
       "    <tr>\n",
       "      <th>4</th>\n",
       "      <td>0004aac84e0df4da2b147fca70cf8255</td>\n",
       "      <td>288</td>\n",
       "      <td>1</td>\n",
       "      <td>196.89</td>\n",
       "      <td>2</td>\n",
       "      <td>1</td>\n",
       "      <td>4</td>\n",
       "      <td>214</td>\n",
       "    </tr>\n",
       "  </tbody>\n",
       "</table>\n",
       "</div>"
      ],
      "text/plain": [
       "                 customer_unique_id  recence  frequence  montant  R  F  M  \\\n",
       "0  0000366f3b9a7992bf8c76cfdf3221e2      111          1   141.90  4  1  4   \n",
       "1  0000b849f77a49e4a4ce2b2a4ca5be3f      114          1    27.19  4  1  1   \n",
       "2  0000f46a3911fa3c0805444483337064      537          1    86.22  1  1  2   \n",
       "3  0000f6ccb0745a6a4b88665a16c9f078      321          1    43.62  2  1  1   \n",
       "4  0004aac84e0df4da2b147fca70cf8255      288          1   196.89  2  1  4   \n",
       "\n",
       "  RFMScore  \n",
       "0      414  \n",
       "1      411  \n",
       "2      112  \n",
       "3      211  \n",
       "4      214  "
      ]
     },
     "execution_count": 29,
     "metadata": {},
     "output_type": "execute_result"
    }
   ],
   "source": [
    "RFM_RFM_RFMscore['RFMScore'] = RFM_RFM_RFMscore.R.map(str) + RFM_RFM_RFMscore.F.map(str) + RFM_RFM_RFMscore.M.map(str)\n",
    "RFM_RFM_RFMscore.head()\n"
   ]
  },
  {
   "cell_type": "code",
   "execution_count": 30,
   "metadata": {},
   "outputs": [],
   "source": [
    "RFM_RFM_RFMscore_segment = RFM_RFM_RFMscore.copy()"
   ]
  },
  {
   "cell_type": "code",
   "execution_count": 31,
   "metadata": {},
   "outputs": [],
   "source": [
    "segt_map = {\n",
    "    r'[1-2][1-2]': 'Hibernating',\n",
    "    r'[1-2][3-4]': 'At Risk',\n",
    "    r'[1-2]5': 'Big Spenders',\n",
    "    r'3[1-2]': 'About to Sleep',\n",
    "    r'33': 'Need Attention',\n",
    "    r'[3-4][4-5]': 'Loyal Customers',\n",
    "    r'41': 'Promising',\n",
    "    r'51': 'New Customers',\n",
    "    r'[4-5][2-3]': 'Potential Loyalists',\n",
    "    r'5[4-5]': 'Champions'\n",
    "}\n",
    "\n",
    "RFM_RFM_RFMscore_segment['RFM_segment'] = RFM_RFM_RFMscore_segment['R'].map(\n",
    "    str) + RFM_RFM_RFMscore_segment['F'].map(str)\n",
    "RFM_RFM_RFMscore_segment['RFM_segment'] = RFM_RFM_RFMscore_segment['RFM_segment'].replace(\n",
    "    segt_map, regex=True)"
   ]
  },
  {
   "cell_type": "code",
   "execution_count": 32,
   "metadata": {},
   "outputs": [
    {
     "data": {
      "text/html": [
       "<div>\n",
       "<style scoped>\n",
       "    .dataframe tbody tr th:only-of-type {\n",
       "        vertical-align: middle;\n",
       "    }\n",
       "\n",
       "    .dataframe tbody tr th {\n",
       "        vertical-align: top;\n",
       "    }\n",
       "\n",
       "    .dataframe thead th {\n",
       "        text-align: right;\n",
       "    }\n",
       "</style>\n",
       "<table border=\"1\" class=\"dataframe\">\n",
       "  <thead>\n",
       "    <tr style=\"text-align: right;\">\n",
       "      <th></th>\n",
       "      <th>customer_unique_id</th>\n",
       "      <th>recence</th>\n",
       "      <th>frequence</th>\n",
       "      <th>montant</th>\n",
       "      <th>R</th>\n",
       "      <th>F</th>\n",
       "      <th>M</th>\n",
       "      <th>RFMScore</th>\n",
       "      <th>RFM_segment</th>\n",
       "    </tr>\n",
       "  </thead>\n",
       "  <tbody>\n",
       "    <tr>\n",
       "      <th>78170</th>\n",
       "      <td>e031118eb65330b4c180522f2743cf51</td>\n",
       "      <td>452</td>\n",
       "      <td>2</td>\n",
       "      <td>280.33</td>\n",
       "      <td>1</td>\n",
       "      <td>5</td>\n",
       "      <td>5</td>\n",
       "      <td>155</td>\n",
       "      <td>Big Spenders</td>\n",
       "    </tr>\n",
       "    <tr>\n",
       "      <th>63421</th>\n",
       "      <td>b61616cdec52a901be1862d0b7f25a5c</td>\n",
       "      <td>71</td>\n",
       "      <td>1</td>\n",
       "      <td>137.41</td>\n",
       "      <td>5</td>\n",
       "      <td>1</td>\n",
       "      <td>3</td>\n",
       "      <td>513</td>\n",
       "      <td>New Customers</td>\n",
       "    </tr>\n",
       "    <tr>\n",
       "      <th>76368</th>\n",
       "      <td>db07fd2ad9869f8356b1fbeefdac31e8</td>\n",
       "      <td>158</td>\n",
       "      <td>3</td>\n",
       "      <td>520.48</td>\n",
       "      <td>4</td>\n",
       "      <td>5</td>\n",
       "      <td>5</td>\n",
       "      <td>455</td>\n",
       "      <td>Loyal Customers</td>\n",
       "    </tr>\n",
       "    <tr>\n",
       "      <th>27466</th>\n",
       "      <td>4ece3c23c89ab319574f257763c717a1</td>\n",
       "      <td>575</td>\n",
       "      <td>1</td>\n",
       "      <td>118.03</td>\n",
       "      <td>1</td>\n",
       "      <td>1</td>\n",
       "      <td>3</td>\n",
       "      <td>113</td>\n",
       "      <td>Hibernating</td>\n",
       "    </tr>\n",
       "    <tr>\n",
       "      <th>24168</th>\n",
       "      <td>4561d997178b39b27c642f0d23e0702a</td>\n",
       "      <td>290</td>\n",
       "      <td>1</td>\n",
       "      <td>136.47</td>\n",
       "      <td>2</td>\n",
       "      <td>1</td>\n",
       "      <td>3</td>\n",
       "      <td>213</td>\n",
       "      <td>Hibernating</td>\n",
       "    </tr>\n",
       "  </tbody>\n",
       "</table>\n",
       "</div>"
      ],
      "text/plain": [
       "                     customer_unique_id  recence  frequence  montant  R  F  M  \\\n",
       "78170  e031118eb65330b4c180522f2743cf51      452          2   280.33  1  5  5   \n",
       "63421  b61616cdec52a901be1862d0b7f25a5c       71          1   137.41  5  1  3   \n",
       "76368  db07fd2ad9869f8356b1fbeefdac31e8      158          3   520.48  4  5  5   \n",
       "27466  4ece3c23c89ab319574f257763c717a1      575          1   118.03  1  1  3   \n",
       "24168  4561d997178b39b27c642f0d23e0702a      290          1   136.47  2  1  3   \n",
       "\n",
       "      RFMScore      RFM_segment  \n",
       "78170      155     Big Spenders  \n",
       "63421      513    New Customers  \n",
       "76368      455  Loyal Customers  \n",
       "27466      113      Hibernating  \n",
       "24168      213      Hibernating  "
      ]
     },
     "execution_count": 32,
     "metadata": {},
     "output_type": "execute_result"
    }
   ],
   "source": [
    "RFM_RFM_RFMscore_segment.sample(5)"
   ]
  },
  {
   "cell_type": "markdown",
   "metadata": {},
   "source": [
    "- ## Visualisation des clusters"
   ]
  },
  {
   "cell_type": "code",
   "execution_count": 33,
   "metadata": {},
   "outputs": [
    {
     "data": {
      "image/png": "[encoded data removed]",
      "text/plain": [
       "<Figure size 1500x400 with 2 Axes>"
      ]
     },
     "metadata": {},
     "output_type": "display_data"
    }
   ],
   "source": [
    "import matplotlib.pyplot as plt\n",
    "import matplotlib\n",
    "import squarify\n",
    "\n",
    "colors = ['#fba521', 'Silver', '#8bc4f6', '#8c5c94',\n",
    "          '#a170e8', '#fba521', '#32CD32', '#FF0000',\n",
    "          '#32CD32', 'Silver', '#FF0000', '#fba521']\n",
    "\n",
    "quarify_plot = RFM_RFM_RFMscore_segment.groupby('RFM_segment')[\n",
    "    'customer_unique_id'].nunique().sort_values(ascending=False).reset_index()\n",
    "\n",
    "mini = min(quarify_plot['customer_unique_id'])\n",
    "maxi = max(quarify_plot['customer_unique_id'])\n",
    "\n",
    "fig = plt.gcf()\n",
    "ax = fig.add_subplot()\n",
    "fig.set_size_inches(15, 4)\n",
    "squarify.plot(sizes=quarify_plot['customer_unique_id'],\n",
    "              label=quarify_plot.RFM_segment, alpha=1,\n",
    "              color=colors)\n",
    "\n",
    "plt.axis('off')\n",
    "plt.title(\"Segmentation RFM\", fontsize=12)\n",
    "ttl = ax.title\n",
    "ttl.set_position([.5, 1.05])\n",
    "\n",
    "# Set the colormap directly using the `color` argument\n",
    "cmap = matplotlib.cm.get_cmap('crest')\n",
    "sm = plt.cm.ScalarMappable(cmap=cmap, norm=plt.Normalize(vmin=mini, vmax=maxi))\n",
    "cbar = plt.colorbar(sm)\n",
    "\n",
    "plt.show()"
   ]
  },
  {
   "cell_type": "markdown",
   "metadata": {},
   "source": [
    "- Concentrez vos efforts marketing sur les groupes de clients les plus importants ou les plus rentables, comme les **\"Big Spenders\"**, les **\"Loyal Customers\"** et les **\"Champions\"**.\n",
    "\n",
    "- Prenez des mesures pour réactiver les clients **\"Hibernating\"** ou **\"About to Sleep\"** en leur offrant des promotions ou des remises spéciales pour les inciter à acheter à nouveau.\n",
    "\n",
    "- Les clients **\"New Customers\"** et **\"Potential Loyalists\"** sont des clients à fort potentiel pour votre entreprise. Offrez-leur des avantages pour les encourager à devenir des clients fidèles à long terme.\n",
    "\n",
    "- Les clients **\"Promising\"** peuvent être encouragés à acheter plus fréquemment en leur offrant des incitations à l'achat ou des programmes de fidélité."
   ]
  },
  {
   "cell_type": "markdown",
   "metadata": {},
   "source": [
    "# 4 - Application des modèles de clustering à l'ensemble des données"
   ]
  },
  {
   "cell_type": "markdown",
   "metadata": {},
   "source": [
    "## 4.1 - Pipeline de pre-processing"
   ]
  },
  {
   "cell_type": "code",
   "execution_count": 17,
   "metadata": {},
   "outputs": [
    {
     "name": "stdout",
     "output_type": "stream",
     "text": [
      "<class 'pandas.core.frame.DataFrame'>\n",
      "RangeIndex: 89122 entries, 0 to 89121\n",
      "Data columns (total 9 columns):\n",
      " #   Column               Non-Null Count  Dtype         \n",
      "---  ------               --------------  -----         \n",
      " 0   customer_unique_id   89122 non-null  object        \n",
      " 1   temps_de_livraison   89122 non-null  float64       \n",
      " 2   note_moyenne_client  89122 non-null  float64       \n",
      " 3   premiere_commande    89122 non-null  datetime64[ns]\n",
      " 4   nb_articles          89122 non-null  float64       \n",
      " 5   depenses_totales     89122 non-null  float64       \n",
      " 6   derniere_commande    89122 non-null  datetime64[ns]\n",
      " 7   recence              89122 non-null  int64         \n",
      " 8   nb_commandes         89122 non-null  int64         \n",
      "dtypes: datetime64[ns](2), float64(4), int64(2), object(1)\n",
      "memory usage: 6.1+ MB\n"
     ]
    }
   ],
   "source": [
    "df_clients.info() "
   ]
  },
  {
   "cell_type": "code",
   "execution_count": 18,
   "metadata": {},
   "outputs": [
    {
     "data": {
      "text/plain": [
       "customer_unique_id     0\n",
       "temps_de_livraison     0\n",
       "note_moyenne_client    0\n",
       "premiere_commande      0\n",
       "nb_articles            0\n",
       "depenses_totales       0\n",
       "derniere_commande      0\n",
       "recence                0\n",
       "nb_commandes           0\n",
       "dtype: int64"
      ]
     },
     "execution_count": 18,
     "metadata": {},
     "output_type": "execute_result"
    }
   ],
   "source": [
    "df_clients.isna().sum()"
   ]
  },
  {
   "cell_type": "markdown",
   "metadata": {},
   "source": [
    "- ### **Normalisation des données**"
   ]
  },
  {
   "cell_type": "code",
   "execution_count": 19,
   "metadata": {},
   "outputs": [],
   "source": [
    "# Pre-processing\n",
    "\n",
    "# définition d'une liste de noms de colonnes qui correspondent\n",
    "# à des variables numériques non-transformées.\n",
    "features = ['note_moyenne_client',\n",
    "            'nb_commandes',\n",
    "            'nb_articles']\n",
    "\n",
    "# définition d'une liste de noms de colonnes qui correspondent\n",
    "# à des variables numériques qui seront transformées à l'aide\n",
    "# d'une fonction de transformation logarithmique.\n",
    "log_features = ['temps_de_livraison',\n",
    "                'depenses_totales',\n",
    "                'recence']\n",
    "\n",
    "# création d'un objet Pipeline qui contient deux étapes de\n",
    "# prétraitement (scaler) pour les variables features.\n",
    "features_transformer = Pipeline(\n",
    "    steps=[(\"scaler\", StandardScaler())]\n",
    ")\n",
    "\n",
    "# création d'un objet Pipeline qui contient trois étapes de\n",
    "# prétraitement (logTransformation, et scaler) pour les\n",
    "# variables log_features.\n",
    "logfeatures_transformer = Pipeline(\n",
    "    steps=[(\"logTransformation\", FunctionTransformer(\n",
    "        lambda value: np.log1p(value))),\n",
    "        (\"scaler\", StandardScaler())]\n",
    ")\n",
    "\n",
    "# création d'un objet ColumnTransformer qui applique les\n",
    "# transformateurs spécifiés (features_transformer et\n",
    "# logfeatures_transformer) à leurs colonnes\n",
    "# correspondantes dans le jeu de données.\n",
    "preprocessor = ColumnTransformer(\n",
    "    remainder='drop',\n",
    "    transformers=[\n",
    "        (\"features\", features_transformer, features),\n",
    "        (\"log_features\", logfeatures_transformer, log_features),\n",
    "    ]\n",
    ")"
   ]
  },
  {
   "cell_type": "code",
   "execution_count": 20,
   "metadata": {},
   "outputs": [],
   "source": [
    "# la méthode fit_transform() du pipeline de pré-traitement (preprocessor) est\n",
    "# appliquée sur les données de ces clients sélectionnés. Cette méthode effectue\n",
    "# deux étapes de pré-traitement : l'imputation des valeurs manquantes et la mise à\n",
    "# l'échelle des données. Le résultat de fit_transform() est un tableau de données\n",
    "# numpy avec les colonnes pré-traitées. Ce tableau est transformé en un DataFrame\n",
    "# pandas et les noms de colonnes sont définis à l'aide des listes features et\n",
    "# log_features définies précédemment :\n",
    "\n",
    "scaled_df_commandes = pd.DataFrame(preprocessor.fit_transform(df_clients),\n",
    "                                   columns=[*features+log_features])"
   ]
  },
  {
   "cell_type": "code",
   "execution_count": 19,
   "metadata": {
    "scrolled": true
   },
   "outputs": [
    {
     "name": "stdout",
     "output_type": "stream",
     "text": [
      "(89122, 9)\n",
      "(89122, 6)\n"
     ]
    }
   ],
   "source": [
    "print(df_clients.shape) \n",
    "print(scaled_df_commandes.shape)"
   ]
  },
  {
   "cell_type": "code",
   "execution_count": 20,
   "metadata": {},
   "outputs": [
    {
     "data": {
      "text/html": [
       "<div>\n",
       "<style scoped>\n",
       "    .dataframe tbody tr th:only-of-type {\n",
       "        vertical-align: middle;\n",
       "    }\n",
       "\n",
       "    .dataframe tbody tr th {\n",
       "        vertical-align: top;\n",
       "    }\n",
       "\n",
       "    .dataframe thead th {\n",
       "        text-align: right;\n",
       "    }\n",
       "</style>\n",
       "<table border=\"1\" class=\"dataframe\">\n",
       "  <thead>\n",
       "    <tr style=\"text-align: right;\">\n",
       "      <th></th>\n",
       "      <th>note_moyenne_client</th>\n",
       "      <th>nb_commandes</th>\n",
       "      <th>nb_articles</th>\n",
       "      <th>temps_de_livraison</th>\n",
       "      <th>depenses_totales</th>\n",
       "      <th>recence</th>\n",
       "    </tr>\n",
       "  </thead>\n",
       "  <tbody>\n",
       "    <tr>\n",
       "      <th>0</th>\n",
       "      <td>0.657173</td>\n",
       "      <td>-0.15775</td>\n",
       "      <td>-0.296902</td>\n",
       "      <td>-0.657691</td>\n",
       "      <td>0.201373</td>\n",
       "      <td>-0.455579</td>\n",
       "    </tr>\n",
       "    <tr>\n",
       "      <th>1</th>\n",
       "      <td>-0.136677</td>\n",
       "      <td>-0.15775</td>\n",
       "      <td>-0.296902</td>\n",
       "      <td>-1.573079</td>\n",
       "      <td>-1.700665</td>\n",
       "      <td>-0.427815</td>\n",
       "    </tr>\n",
       "    <tr>\n",
       "      <th>2</th>\n",
       "      <td>-0.930528</td>\n",
       "      <td>-0.15775</td>\n",
       "      <td>-0.296902</td>\n",
       "      <td>1.550444</td>\n",
       "      <td>-0.377157</td>\n",
       "      <td>1.192804</td>\n",
       "    </tr>\n",
       "    <tr>\n",
       "      <th>3</th>\n",
       "      <td>-0.136677</td>\n",
       "      <td>-0.15775</td>\n",
       "      <td>-0.296902</td>\n",
       "      <td>1.139358</td>\n",
       "      <td>-1.162557</td>\n",
       "      <td>0.653650</td>\n",
       "    </tr>\n",
       "    <tr>\n",
       "      <th>4</th>\n",
       "      <td>0.657173</td>\n",
       "      <td>-0.15775</td>\n",
       "      <td>-0.296902</td>\n",
       "      <td>0.476121</td>\n",
       "      <td>0.582871</td>\n",
       "      <td>0.540081</td>\n",
       "    </tr>\n",
       "  </tbody>\n",
       "</table>\n",
       "</div>"
      ],
      "text/plain": [
       "   note_moyenne_client  nb_commandes  nb_articles  temps_de_livraison  \\\n",
       "0             0.657173      -0.15775    -0.296902           -0.657691   \n",
       "1            -0.136677      -0.15775    -0.296902           -1.573079   \n",
       "2            -0.930528      -0.15775    -0.296902            1.550444   \n",
       "3            -0.136677      -0.15775    -0.296902            1.139358   \n",
       "4             0.657173      -0.15775    -0.296902            0.476121   \n",
       "\n",
       "   depenses_totales   recence  \n",
       "0          0.201373 -0.455579  \n",
       "1         -1.700665 -0.427815  \n",
       "2         -0.377157  1.192804  \n",
       "3         -1.162557  0.653650  \n",
       "4          0.582871  0.540081  "
      ]
     },
     "execution_count": 20,
     "metadata": {},
     "output_type": "execute_result"
    }
   ],
   "source": [
    "scaled_df_commandes.head()"
   ]
  },
  {
   "cell_type": "markdown",
   "metadata": {},
   "source": [
    "- ## Recherche hyperparamètres du Modèle Kmeans\n",
    "\n",
    "**Le Kmeans est un algorithm utilisé pour la classification et la segmentation de \n",
    "données en groupes ou en clusters. Il est basé sur la minimisation de la somme des \n",
    "distances euclidiennes entre les points de données et leurs centres de cluster.**\n",
    "- Détermine le nombre de clusters K que vous souhaitez créer.\n",
    "- Sélectionne K points de données au hasard pour servir de centres de cluster initiaux.\n",
    "- Attribue chaque point de données au centre de cluster le plus proche en termes de distance euclidienne.\n",
    "- Calcule la moyenne de chaque cluster et déplace le centre du cluster vers cette moyenne.\n",
    "- Répéte les étapes 3 et 4 jusqu'à ce que les centres de cluster convergent vers une position stable."
   ]
  },
  {
   "cell_type": "code",
   "execution_count": 21,
   "metadata": {
    "scrolled": false
   },
   "outputs": [
    {
     "data": {
      "image/png": "[encoded data removed]",
      "text/plain": [
       "<Figure size 800x550 with 1 Axes>"
      ]
     },
     "metadata": {},
     "output_type": "display_data"
    },
    {
     "data": {
      "image/png": "[encoded data removed]",
      "text/plain": [
       "<Figure size 800x550 with 1 Axes>"
      ]
     },
     "metadata": {},
     "output_type": "display_data"
    },
    {
     "data": {
      "image/png": "[encoded data removed]",
      "text/plain": [
       "<Figure size 800x550 with 1 Axes>"
      ]
     },
     "metadata": {},
     "output_type": "display_data"
    },
    {
     "data": {
      "image/png": "[encoded data removed]",
      "text/plain": [
       "<Figure size 800x550 with 1 Axes>"
      ]
     },
     "metadata": {},
     "output_type": "display_data"
    }
   ],
   "source": [
    "# initialiser le modèle K-means avec une graine aléatoire et créer deux\n",
    "# listes vides pour stocker les résultats des métriques :\n",
    "\n",
    "model = KMeans(random_state=42)\n",
    "db_index = []\n",
    "sil = []\n",
    "\n",
    "# Création d'un objet de visualisation KElbowVisualizer pour afficher\n",
    "# l'indice de coude pour différents nombres de clusters à utiliser.\n",
    "# La méthode fit() du visualizer est utilisée pour adapter\n",
    "# les données (scaled_df_achats) au modèle K-means et afficher la visualisation :\n",
    "\n",
    "visualizer = KElbowVisualizer(\n",
    "    model, k=(3, 12), timings=False, locate_elbow=False)\n",
    "\n",
    "visualizer.fit(scaled_df_commandes)    # Fit the data to the visualizer\n",
    "#plt.figure(figsize=(10, 10))\n",
    "\n",
    "visualizer.show()\n",
    "\n",
    "# un autre objet de visualisation KElbowVisualizer est créé pour afficher\n",
    "# le score de Calinski-Harabasz pour différents nombres de clusters.\n",
    "# La méthode fit() est utilisée pour adapter les données et\n",
    "# afficher la visualisation :\n",
    "visualizer = KElbowVisualizer(\n",
    "    model, k=(3, 12), metric='calinski_harabasz', timings=False, locate_elbow=False)\n",
    "\n",
    "visualizer.fit(scaled_df_commandes)    # Fit the data to the visualizer\n",
    "visualizer.show()\n",
    "\n",
    "# une boucle est utilisée pour ajuster le modèle K-means pour différents\n",
    "# nombres de clusters, à partir de 3 et jusqu'à 11 inclus. Dans chaque\n",
    "# itération, les données sont ajustées (fit()) au modèle K-means,\n",
    "# les étiquettes des clusters sont prédites pour chaque observation (predict())\n",
    "# et les métriques de Davies-Bouldin et de score de silhouette sont calculées\n",
    "# et stockées dans les listes db_index et sil, respectivement :\n",
    "for k in range(3, 12):\n",
    "    kmeans = KMeans(n_clusters=k,  random_state=0)\n",
    "    kmeans.fit(scaled_df_commandes)\n",
    "    labels = kmeans.predict(scaled_df_commandes)\n",
    "    sil_T = silhouette_score(scaled_df_commandes, labels, sample_size=5000)\n",
    "    sil.append(sil_T)\n",
    "    db_index_t = davies_bouldin_score(scaled_df_commandes, labels)\n",
    "    db_index.append(db_index_t)\n",
    "\n",
    "# deux graphiques sont tracés pour chaque métrique en utilisant les listes\n",
    "# db_index et sil. Les valeurs de la métrique sont tracées sur l'axe des ordonnées\n",
    "# et le nombre de clusters est tracé sur l'axe des abscisses.\n",
    "\n",
    "sns.set_theme(style=\"darkgrid\")\n",
    "\n",
    "sns.lineplot(x=range(3, 12), y=db_index,\n",
    "             marker=\"s\", dashes=False)\n",
    "plt.xticks(range(3, 12))\n",
    "plt.xlabel(\"Number of clusters\")\n",
    "plt.ylabel(\"Davies-Bouldin Index\")\n",
    "plt.show()\n",
    "\n",
    "sns.lineplot(x=range(3, 12), y=sil,\n",
    "             marker=\"s\", dashes=False)\n",
    "plt.xticks(range(3, 12))\n",
    "plt.xlabel(\"Number of clusters\")\n",
    "plt.ylabel(\"Average silhouette score\")\n",
    "plt.show()"
   ]
  },
  {
   "cell_type": "markdown",
   "metadata": {},
   "source": [
    "- ## Plus de details"
   ]
  },
  {
   "cell_type": "code",
   "execution_count": 63,
   "metadata": {},
   "outputs": [
    {
     "name": "stdout",
     "output_type": "stream",
     "text": [
      "For k = 2 Silhouette Coefficient: 0.317 Davies Bouldin score: 1.969\n",
      "For k = 3 Silhouette Coefficient: 0.211 Davies Bouldin score: 1.618\n",
      "For k = 4 Silhouette Coefficient: 0.237 Davies Bouldin score: 1.326\n",
      "For k = 5 Silhouette Coefficient: 0.274 Davies Bouldin score: 1.178\n",
      "For k = 6 Silhouette Coefficient: 0.230 Davies Bouldin score: 1.192\n",
      "For k = 7 Silhouette Coefficient: 0.222 Davies Bouldin score: 1.156\n",
      "For k = 8 Silhouette Coefficient: 0.222 Davies Bouldin score: 1.186\n",
      "For k = 9 Silhouette Coefficient: 0.222 Davies Bouldin score: 1.277\n",
      "For k = 10 Silhouette Coefficient: 0.212 Davies Bouldin score: 1.202\n",
      "For k = 11 Silhouette Coefficient: 0.209 Davies Bouldin score: 1.237\n"
     ]
    }
   ],
   "source": [
    "from sklearn import metrics\n",
    "silhouette_scores = []\n",
    "davies_bouldin_scores = []\n",
    "\n",
    "for k in range(2, 12):\n",
    "    kmeans = KMeans(n_clusters=k, random_state=42).fit(scaled_df_commandes)\n",
    "    kmeans_labels = kmeans.labels_\n",
    "    kmeans_pred = kmeans.predict(scaled_df_commandes)\n",
    "\n",
    "    kmeans_score_sil = metrics.silhouette_score(\n",
    "        scaled_df_commandes, kmeans_labels)\n",
    "    silhouette_scores.append(kmeans_score_sil)\n",
    "\n",
    "    kmeans_score_db = metrics.davies_bouldin_score(\n",
    "        scaled_df_commandes, kmeans_labels)\n",
    "    davies_bouldin_scores.append(kmeans_score_db)\n",
    "\n",
    "    print(\"For k =\", k, \"Silhouette Coefficient: %0.3f\" % kmeans_score_sil,\n",
    "          \"Davies Bouldin score: %0.3f\" % kmeans_score_db)"
   ]
  },
  {
   "cell_type": "markdown",
   "metadata": {},
   "source": [
    "- ## Recherche hyperparamètres du Modèle DBSCAN"
   ]
  },
  {
   "cell_type": "code",
   "execution_count": 22,
   "metadata": {},
   "outputs": [
    {
     "data": {
      "text/plain": [
       "Text(0, 0.5, 'Distances des 7-NN')"
      ]
     },
     "execution_count": 22,
     "metadata": {},
     "output_type": "execute_result"
    },
    {
     "data": {
      "image/png": "[encoded data removed]",
      "text/plain": [
       "<Figure size 1000x500 with 1 Axes>"
      ]
     },
     "metadata": {},
     "output_type": "display_data"
    }
   ],
   "source": [
    "from sklearn.neighbors import NearestNeighbors\n",
    "\n",
    "\n",
    "neigh = NearestNeighbors(n_neighbors=7)\n",
    "nbrs = neigh.fit(scaled_df_commandes)\n",
    "distances, indices = nbrs.kneighbors(scaled_df_commandes)\n",
    "distances = np.sort(distances, axis=0)\n",
    "distances = distances[:, 1]\n",
    "\n",
    "sns.set_theme(style=\"darkgrid\")\n",
    "plt.figure(figsize=(10, 5))\n",
    "plt.plot(distances)\n",
    "plt.ylim(0, 3)\n",
    "plt.xlabel(\"Clients triés par distance\")\n",
    "plt.ylabel(\"Distances des 7-NN\")"
   ]
  },
  {
   "cell_type": "code",
   "execution_count": null,
   "metadata": {
    "scrolled": false
   },
   "outputs": [],
   "source": [
    "from sklearn.cluster import DBSCAN\n",
    "\n",
    "ch_index = []\n",
    "db_index = []\n",
    "sil = []\n",
    "n_clusters_ = []\n",
    "n_noise_ = []\n",
    "\n",
    "for i in np.arange(0.3, 3, 0.2):\n",
    "    Birch_model = DBSCAN(eps=i, min_samples=7)\n",
    "    labels = Birch_model.fit_predict(scaled_df_commandes)\n",
    "\n",
    "    n_clusters_t = len(set(labels)) - (1 if -1 in labels else 0)\n",
    "    n_clusters_.append(n_clusters_t)\n",
    "\n",
    "    n_noise_t = list(labels).count(-1)\n",
    "    n_noise_.append(n_noise_t)\n",
    "\n",
    "    sil_T = silhouette_score(scaled_df_commandes, labels, sample_size=5000)\n",
    "    sil.append(sil_T)\n",
    "\n",
    "    db_index_t = davies_bouldin_score(scaled_df_commandes, labels)\n",
    "    db_index.append(db_index_t)\n",
    "\n",
    "    ch_index_t = calinski_harabasz_score(scaled_df_commandes, labels)\n",
    "    ch_index.append(ch_index_t)\n",
    "\n",
    "\n",
    "plt.figure(figsize=(10, 5))\n",
    "\n",
    "sns.lineplot(x=np.arange(0.3, 3, 0.2), y=n_clusters_,\n",
    "             marker=\"s\", dashes=False)\n",
    "plt.xticks(np.arange(0.3, 3, 0.2))\n",
    "plt.xlabel(\"Epsilon Value\")\n",
    "plt.ylabel(\"Estimated number of clusters\")\n",
    "plt.show()\n",
    "\n",
    "plt.figure(figsize=(10, 5))\n",
    "\n",
    "sns.lineplot(x=np.arange(0.3, 3, 0.2), y=n_noise_,\n",
    "             marker=\"s\", dashes=False)\n",
    "plt.xticks(np.arange(0.3, 3, 0.2))\n",
    "plt.xlabel(\"Epsilon Value\")\n",
    "plt.ylabel(\"Estimated number of noise points\")\n",
    "plt.show()\n",
    "\n",
    "\n",
    "plt.figure(figsize=(10, 5))\n",
    "\n",
    "sns.lineplot(x=np.arange(0.3, 3, 0.2), y=ch_index,\n",
    "             marker=\"s\", dashes=False)\n",
    "plt.xticks(np.arange(0.3, 3, 0.2))\n",
    "plt.xlabel(\"Epsilon Value\")\n",
    "plt.ylabel(\"Calinski Harabasz score\")\n",
    "plt.show()\n",
    "\n",
    "\n",
    "plt.figure(figsize=(10, 5))\n",
    "\n",
    "sns.lineplot(x=np.arange(0.3, 3, 0.2), y=db_index,\n",
    "             marker=\"s\", dashes=False)\n",
    "plt.xticks(np.arange(0.3, 3, 0.2))\n",
    "plt.xlabel(\"Epsilon Value\")\n",
    "plt.ylabel(\"Davies-Bouldin Index\")\n",
    "plt.show()\n",
    "\n",
    "plt.figure(figsize=(10, 5))\n",
    "\n",
    "sns.lineplot(x=np.arange(0.3, 3, 0.2), y=sil,\n",
    "             marker=\"s\", dashes=False)\n",
    "plt.xticks(np.arange(0.3, 3, 0.2))\n",
    "plt.xlabel(\"Epsilon Value\")\n",
    "plt.ylabel(\"Average silhouette score\")\n",
    "plt.show()"
   ]
  },
  {
   "cell_type": "markdown",
   "metadata": {},
   "source": [
    "- ## Recherche hyperparamèetres Hierachical Clustering"
   ]
  },
  {
   "cell_type": "code",
   "execution_count": 21,
   "metadata": {},
   "outputs": [],
   "source": [
    "from scipy.cluster.hierarchy import dendrogram\n",
    "\n",
    "\n",
    "def plot_dendrogram(model, **kwargs):\n",
    "    # Create linkage matrix and then plot the dendrogram\n",
    "\n",
    "    # create the counts of samples under each node\n",
    "    counts = np.zeros(model.children_.shape[0])\n",
    "    n_samples = len(model.labels_)\n",
    "    for i, merge in enumerate(model.children_):\n",
    "        current_count = 0\n",
    "        for child_idx in merge:\n",
    "            if child_idx < n_samples:\n",
    "                current_count += 1  # leaf node\n",
    "            else:\n",
    "                current_count += counts[child_idx - n_samples]\n",
    "        counts[i] = current_count\n",
    "\n",
    "    linkage_matrix = np.column_stack(\n",
    "        [model.children_, model.distances_, counts]\n",
    "    ).astype(float)\n",
    "\n",
    "    # Plot the corresponding dendrogram\n",
    "    dendrogram(linkage_matrix, **kwargs)"
   ]
  },
  {
   "cell_type": "code",
   "execution_count": null,
   "metadata": {},
   "outputs": [],
   "source": [
    "from sklearn.cluster import AgglomerativeClustering\n",
    "\n",
    "model = AgglomerativeClustering(compute_distances=True)\n",
    "label = model.fit_predict(scaled_df_commandes)\n",
    "\n",
    "sns.set(font_scale=1.5)\n",
    "fig, ax = plt.subplots(figsize=(20, 5))\n",
    "plot_dendrogram(model, truncate_mode=\"level\", p=6)\n",
    "ax.xaxis.set_tick_params(labelsize=10)\n",
    "\n",
    "plt.title(\"Hierarchical Clustering Dendrogram\")\n",
    "# plot the top three levels of the dendrogram\n",
    "plt.xlabel(\"Number de points du voisinage.\")\n",
    "plt.show()"
   ]
  },
  {
   "cell_type": "code",
   "execution_count": null,
   "metadata": {},
   "outputs": [],
   "source": []
  },
  {
   "cell_type": "code",
   "execution_count": null,
   "metadata": {},
   "outputs": [],
   "source": [
    "from scipy.cluster.hierarchy import linkage\n",
    "from scipy.spatial.distance import pdist\n",
    "from scipy.cluster.hierarchy import dendrogram\n",
    "from sklearn.cluster import AgglomerativeClustering\n",
    "import matplotlib.pyplot as plt\n",
    "\n",
    "# Initialisation du modèle avec 6 clusters\n",
    "model = AgglomerativeClustering(n_clusters=6)\n",
    "\n",
    "# Prédiction des clusters pour les données d'entrée\n",
    "labels = model.fit_predict(scaled_df_commandes)\n",
    "\n",
    "# Calcul des liens de la hiérarchie\n",
    "\n",
    "linkage_matrix = linkage(pdist(scaled_df_commandes), method='ward')\n",
    "\n",
    "# Création du dendrogramme\n",
    "plt.figure(figsize=(12, 6))\n",
    "dendrogram(linkage_matrix, color_threshold=0, truncate_mode='level',\n",
    "           p=6, leaf_font_size=10, labels=labels)\n",
    "plt.xlabel(\"Points de données\")\n",
    "plt.ylabel(\"Distance\")\n",
    "plt.title(\"Dendrogramme avec 6 clusters\")\n",
    "plt.show()"
   ]
  },
  {
   "cell_type": "code",
   "execution_count": 87,
   "metadata": {},
   "outputs": [
    {
     "data": {
      "image/png": "[encoded data removed]",
      "text/plain": [
       "<Figure size 800x550 with 1 Axes>"
      ]
     },
     "metadata": {},
     "output_type": "display_data"
    },
    {
     "data": {
      "image/png": "[encoded data removed]",
      "text/plain": [
       "<Figure size 800x550 with 1 Axes>"
      ]
     },
     "metadata": {},
     "output_type": "display_data"
    },
    {
     "data": {
      "image/png": "[encoded data removed]",
      "text/plain": [
       "<Figure size 800x550 with 1 Axes>"
      ]
     },
     "metadata": {},
     "output_type": "display_data"
    }
   ],
   "source": [
    "from sklearn.cluster import AgglomerativeClustering\n",
    "from sklearn.metrics import silhouette_score, davies_bouldin_score\n",
    "from sklearn.metrics import calinski_harabasz_score\n",
    "import seaborn as sns\n",
    "import matplotlib.pyplot as plt\n",
    "\n",
    "# Créer l'estimateur AgglomerativeClustering\n",
    "agg_clustering = AgglomerativeClustering()\n",
    "\n",
    "# Définir le nombre de clusters à évaluer\n",
    "n_clusters_range = range(2, 11)\n",
    "\n",
    "# Initialiser les listes pour stocker les scores de silhouette et de Davies Bouldin\n",
    "silhouette_scores = []\n",
    "davies_bouldin_scores = []\n",
    "calinski_harabasz_scores = []\n",
    "\n",
    "# Boucle sur le nombre de clusters pour calculer les scores\n",
    "for n_clusters in n_clusters_range:\n",
    "    agg_clustering.set_params(n_clusters=n_clusters)\n",
    "    labels = agg_clustering.fit_predict(scaled_df_commandes)\n",
    "    silhouette_scores.append(silhouette_score(scaled_df_commandes, labels))\n",
    "    davies_bouldin_scores.append(\n",
    "        davies_bouldin_score(scaled_df_commandes, labels))\n",
    "    calinski_harabasz_scores.append(\n",
    "        calinski_harabasz_score(scaled_df_commandes, labels))\n",
    "\n",
    "# Tracer le graphe de silhouette score en fonction du nombre de clusters\n",
    "plt.plot(n_clusters_range, silhouette_scores)\n",
    "plt.xlabel('Nombre de clusters')\n",
    "plt.ylabel('Silhouette Score')\n",
    "plt.show()\n",
    "\n",
    "# Tracer le graphe de Davies Bouldin en fonction du nombre de clusters\n",
    "plt.plot(n_clusters_range, calinski_harabasz_scores)\n",
    "plt.xlabel('Nombre de clusters')\n",
    "plt.ylabel('calinski harabasz score')\n",
    "plt.show()\n",
    "\n",
    "# Tracer le graphe de Davies Bouldin en fonction du nombre de clusters\n",
    "plt.plot(n_clusters_range, davies_bouldin_scores)\n",
    "plt.xlabel('Nombre de clusters')\n",
    "plt.ylabel('Davies Bouldin Score')\n",
    "plt.show()"
   ]
  },
  {
   "cell_type": "markdown",
   "metadata": {},
   "source": [
    "# 5 - Application du modèle KMEANS avec k=5"
   ]
  },
  {
   "cell_type": "code",
   "execution_count": null,
   "metadata": {},
   "outputs": [],
   "source": []
  },
  {
   "cell_type": "code",
   "execution_count": 22,
   "metadata": {},
   "outputs": [],
   "source": [
    "# Clustering :\n",
    "dataset_clients_sans_dates = df_clients.copy()"
   ]
  },
  {
   "cell_type": "code",
   "execution_count": 23,
   "metadata": {},
   "outputs": [
    {
     "data": {
      "text/plain": [
       "Index(['customer_unique_id', 'temps_de_livraison', 'note_moyenne_client',\n",
       "       'premiere_commande', 'nb_articles', 'depenses_totales',\n",
       "       'derniere_commande', 'recence', 'nb_commandes'],\n",
       "      dtype='object')"
      ]
     },
     "execution_count": 23,
     "metadata": {},
     "output_type": "execute_result"
    }
   ],
   "source": [
    "dataset_clients_sans_dates.columns"
   ]
  },
  {
   "cell_type": "code",
   "execution_count": 24,
   "metadata": {},
   "outputs": [
    {
     "name": "stdout",
     "output_type": "stream",
     "text": [
      "<class 'pandas.core.frame.DataFrame'>\n",
      "RangeIndex: 89122 entries, 0 to 89121\n",
      "Data columns (total 9 columns):\n",
      " #   Column               Non-Null Count  Dtype         \n",
      "---  ------               --------------  -----         \n",
      " 0   customer_unique_id   89122 non-null  object        \n",
      " 1   temps_de_livraison   89122 non-null  float64       \n",
      " 2   note_moyenne_client  89122 non-null  float64       \n",
      " 3   premiere_commande    89122 non-null  datetime64[ns]\n",
      " 4   nb_articles          89122 non-null  float64       \n",
      " 5   depenses_totales     89122 non-null  float64       \n",
      " 6   derniere_commande    89122 non-null  datetime64[ns]\n",
      " 7   recence              89122 non-null  int64         \n",
      " 8   nb_commandes         89122 non-null  int64         \n",
      "dtypes: datetime64[ns](2), float64(4), int64(2), object(1)\n",
      "memory usage: 6.1+ MB\n"
     ]
    }
   ],
   "source": [
    "dataset_clients_sans_dates.info()"
   ]
  },
  {
   "cell_type": "code",
   "execution_count": 25,
   "metadata": {},
   "outputs": [],
   "source": [
    "dataset_clients_sans_dates.drop(columns=['premiere_commande',\n",
    "                                         'derniere_commande'], inplace=True)"
   ]
  },
  {
   "cell_type": "code",
   "execution_count": 26,
   "metadata": {},
   "outputs": [],
   "source": [
    "dataset_clients_sans_dates.set_index('customer_unique_id', inplace=True)"
   ]
  },
  {
   "cell_type": "code",
   "execution_count": 27,
   "metadata": {},
   "outputs": [
    {
     "data": {
      "text/html": [
       "<div>\n",
       "<style scoped>\n",
       "    .dataframe tbody tr th:only-of-type {\n",
       "        vertical-align: middle;\n",
       "    }\n",
       "\n",
       "    .dataframe tbody tr th {\n",
       "        vertical-align: top;\n",
       "    }\n",
       "\n",
       "    .dataframe thead th {\n",
       "        text-align: right;\n",
       "    }\n",
       "</style>\n",
       "<table border=\"1\" class=\"dataframe\">\n",
       "  <thead>\n",
       "    <tr style=\"text-align: right;\">\n",
       "      <th></th>\n",
       "      <th>temps_de_livraison</th>\n",
       "      <th>note_moyenne_client</th>\n",
       "      <th>nb_articles</th>\n",
       "      <th>depenses_totales</th>\n",
       "      <th>recence</th>\n",
       "      <th>nb_commandes</th>\n",
       "    </tr>\n",
       "    <tr>\n",
       "      <th>customer_unique_id</th>\n",
       "      <th></th>\n",
       "      <th></th>\n",
       "      <th></th>\n",
       "      <th></th>\n",
       "      <th></th>\n",
       "      <th></th>\n",
       "    </tr>\n",
       "  </thead>\n",
       "  <tbody>\n",
       "    <tr>\n",
       "      <th>0000366f3b9a7992bf8c76cfdf3221e2</th>\n",
       "      <td>6.0</td>\n",
       "      <td>5.0</td>\n",
       "      <td>1.0</td>\n",
       "      <td>141.90</td>\n",
       "      <td>111</td>\n",
       "      <td>1</td>\n",
       "    </tr>\n",
       "    <tr>\n",
       "      <th>0000b849f77a49e4a4ce2b2a4ca5be3f</th>\n",
       "      <td>3.0</td>\n",
       "      <td>4.0</td>\n",
       "      <td>1.0</td>\n",
       "      <td>27.19</td>\n",
       "      <td>114</td>\n",
       "      <td>1</td>\n",
       "    </tr>\n",
       "    <tr>\n",
       "      <th>0000f46a3911fa3c0805444483337064</th>\n",
       "      <td>26.0</td>\n",
       "      <td>3.0</td>\n",
       "      <td>1.0</td>\n",
       "      <td>86.22</td>\n",
       "      <td>537</td>\n",
       "      <td>1</td>\n",
       "    </tr>\n",
       "    <tr>\n",
       "      <th>0000f6ccb0745a6a4b88665a16c9f078</th>\n",
       "      <td>20.0</td>\n",
       "      <td>4.0</td>\n",
       "      <td>1.0</td>\n",
       "      <td>43.62</td>\n",
       "      <td>321</td>\n",
       "      <td>1</td>\n",
       "    </tr>\n",
       "    <tr>\n",
       "      <th>0004aac84e0df4da2b147fca70cf8255</th>\n",
       "      <td>13.0</td>\n",
       "      <td>5.0</td>\n",
       "      <td>1.0</td>\n",
       "      <td>196.89</td>\n",
       "      <td>288</td>\n",
       "      <td>1</td>\n",
       "    </tr>\n",
       "  </tbody>\n",
       "</table>\n",
       "</div>"
      ],
      "text/plain": [
       "                                  temps_de_livraison  note_moyenne_client  \\\n",
       "customer_unique_id                                                          \n",
       "0000366f3b9a7992bf8c76cfdf3221e2                 6.0                  5.0   \n",
       "0000b849f77a49e4a4ce2b2a4ca5be3f                 3.0                  4.0   \n",
       "0000f46a3911fa3c0805444483337064                26.0                  3.0   \n",
       "0000f6ccb0745a6a4b88665a16c9f078                20.0                  4.0   \n",
       "0004aac84e0df4da2b147fca70cf8255                13.0                  5.0   \n",
       "\n",
       "                                  nb_articles  depenses_totales  recence  \\\n",
       "customer_unique_id                                                         \n",
       "0000366f3b9a7992bf8c76cfdf3221e2          1.0            141.90      111   \n",
       "0000b849f77a49e4a4ce2b2a4ca5be3f          1.0             27.19      114   \n",
       "0000f46a3911fa3c0805444483337064          1.0             86.22      537   \n",
       "0000f6ccb0745a6a4b88665a16c9f078          1.0             43.62      321   \n",
       "0004aac84e0df4da2b147fca70cf8255          1.0            196.89      288   \n",
       "\n",
       "                                  nb_commandes  \n",
       "customer_unique_id                              \n",
       "0000366f3b9a7992bf8c76cfdf3221e2             1  \n",
       "0000b849f77a49e4a4ce2b2a4ca5be3f             1  \n",
       "0000f46a3911fa3c0805444483337064             1  \n",
       "0000f6ccb0745a6a4b88665a16c9f078             1  \n",
       "0004aac84e0df4da2b147fca70cf8255             1  "
      ]
     },
     "execution_count": 27,
     "metadata": {},
     "output_type": "execute_result"
    }
   ],
   "source": [
    "dataset_clients_sans_dates.head()"
   ]
  },
  {
   "cell_type": "code",
   "execution_count": 28,
   "metadata": {},
   "outputs": [],
   "source": [
    "kmeans = KMeans(random_state=42, n_clusters=5)\n",
    "kmeans.fit(scaled_df_commandes)\n",
    "\n",
    "dataset_clients_sans_dates['segments'] = \n",
    "kmeans.predict(scaled_df_commandes)"
   ]
  },
  {
   "cell_type": "code",
   "execution_count": 29,
   "metadata": {
    "scrolled": false
   },
   "outputs": [
    {
     "data": {
      "text/html": [
       "<div>\n",
       "<style scoped>\n",
       "    .dataframe tbody tr th:only-of-type {\n",
       "        vertical-align: middle;\n",
       "    }\n",
       "\n",
       "    .dataframe tbody tr th {\n",
       "        vertical-align: top;\n",
       "    }\n",
       "\n",
       "    .dataframe thead th {\n",
       "        text-align: right;\n",
       "    }\n",
       "</style>\n",
       "<table border=\"1\" class=\"dataframe\">\n",
       "  <thead>\n",
       "    <tr style=\"text-align: right;\">\n",
       "      <th></th>\n",
       "      <th>temps_de_livraison</th>\n",
       "      <th>note_moyenne_client</th>\n",
       "      <th>nb_articles</th>\n",
       "      <th>depenses_totales</th>\n",
       "      <th>recence</th>\n",
       "      <th>nb_commandes</th>\n",
       "      <th>segments</th>\n",
       "    </tr>\n",
       "    <tr>\n",
       "      <th>customer_unique_id</th>\n",
       "      <th></th>\n",
       "      <th></th>\n",
       "      <th></th>\n",
       "      <th></th>\n",
       "      <th></th>\n",
       "      <th></th>\n",
       "      <th></th>\n",
       "    </tr>\n",
       "  </thead>\n",
       "  <tbody>\n",
       "    <tr>\n",
       "      <th>0000366f3b9a7992bf8c76cfdf3221e2</th>\n",
       "      <td>6.0</td>\n",
       "      <td>5.0</td>\n",
       "      <td>1.0</td>\n",
       "      <td>141.90</td>\n",
       "      <td>111</td>\n",
       "      <td>1</td>\n",
       "      <td>2</td>\n",
       "    </tr>\n",
       "    <tr>\n",
       "      <th>0000b849f77a49e4a4ce2b2a4ca5be3f</th>\n",
       "      <td>3.0</td>\n",
       "      <td>4.0</td>\n",
       "      <td>1.0</td>\n",
       "      <td>27.19</td>\n",
       "      <td>114</td>\n",
       "      <td>1</td>\n",
       "      <td>2</td>\n",
       "    </tr>\n",
       "    <tr>\n",
       "      <th>0000f46a3911fa3c0805444483337064</th>\n",
       "      <td>26.0</td>\n",
       "      <td>3.0</td>\n",
       "      <td>1.0</td>\n",
       "      <td>86.22</td>\n",
       "      <td>537</td>\n",
       "      <td>1</td>\n",
       "      <td>1</td>\n",
       "    </tr>\n",
       "    <tr>\n",
       "      <th>0000f6ccb0745a6a4b88665a16c9f078</th>\n",
       "      <td>20.0</td>\n",
       "      <td>4.0</td>\n",
       "      <td>1.0</td>\n",
       "      <td>43.62</td>\n",
       "      <td>321</td>\n",
       "      <td>1</td>\n",
       "      <td>0</td>\n",
       "    </tr>\n",
       "    <tr>\n",
       "      <th>0004aac84e0df4da2b147fca70cf8255</th>\n",
       "      <td>13.0</td>\n",
       "      <td>5.0</td>\n",
       "      <td>1.0</td>\n",
       "      <td>196.89</td>\n",
       "      <td>288</td>\n",
       "      <td>1</td>\n",
       "      <td>0</td>\n",
       "    </tr>\n",
       "  </tbody>\n",
       "</table>\n",
       "</div>"
      ],
      "text/plain": [
       "                                  temps_de_livraison  note_moyenne_client  \\\n",
       "customer_unique_id                                                          \n",
       "0000366f3b9a7992bf8c76cfdf3221e2                 6.0                  5.0   \n",
       "0000b849f77a49e4a4ce2b2a4ca5be3f                 3.0                  4.0   \n",
       "0000f46a3911fa3c0805444483337064                26.0                  3.0   \n",
       "0000f6ccb0745a6a4b88665a16c9f078                20.0                  4.0   \n",
       "0004aac84e0df4da2b147fca70cf8255                13.0                  5.0   \n",
       "\n",
       "                                  nb_articles  depenses_totales  recence  \\\n",
       "customer_unique_id                                                         \n",
       "0000366f3b9a7992bf8c76cfdf3221e2          1.0            141.90      111   \n",
       "0000b849f77a49e4a4ce2b2a4ca5be3f          1.0             27.19      114   \n",
       "0000f46a3911fa3c0805444483337064          1.0             86.22      537   \n",
       "0000f6ccb0745a6a4b88665a16c9f078          1.0             43.62      321   \n",
       "0004aac84e0df4da2b147fca70cf8255          1.0            196.89      288   \n",
       "\n",
       "                                  nb_commandes  segments  \n",
       "customer_unique_id                                        \n",
       "0000366f3b9a7992bf8c76cfdf3221e2             1         2  \n",
       "0000b849f77a49e4a4ce2b2a4ca5be3f             1         2  \n",
       "0000f46a3911fa3c0805444483337064             1         1  \n",
       "0000f6ccb0745a6a4b88665a16c9f078             1         0  \n",
       "0004aac84e0df4da2b147fca70cf8255             1         0  "
      ]
     },
     "execution_count": 29,
     "metadata": {},
     "output_type": "execute_result"
    }
   ],
   "source": [
    "dataset_clients_sans_dates.head() "
   ]
  },
  {
   "cell_type": "code",
   "execution_count": 30,
   "metadata": {},
   "outputs": [],
   "source": [
    "centre_clusters = pd.DataFrame(kmeans.cluster_centers_,\n",
    "                               columns=scaled_df_commandes.columns).reset_index()"
   ]
  },
  {
   "cell_type": "code",
   "execution_count": 31,
   "metadata": {},
   "outputs": [
    {
     "data": {
      "text/html": [
       "<div>\n",
       "<style scoped>\n",
       "    .dataframe tbody tr th:only-of-type {\n",
       "        vertical-align: middle;\n",
       "    }\n",
       "\n",
       "    .dataframe tbody tr th {\n",
       "        vertical-align: top;\n",
       "    }\n",
       "\n",
       "    .dataframe thead th {\n",
       "        text-align: right;\n",
       "    }\n",
       "</style>\n",
       "<table border=\"1\" class=\"dataframe\">\n",
       "  <thead>\n",
       "    <tr style=\"text-align: right;\">\n",
       "      <th></th>\n",
       "      <th>index</th>\n",
       "      <th>note_moyenne_client</th>\n",
       "      <th>nb_commandes</th>\n",
       "      <th>nb_articles</th>\n",
       "      <th>temps_de_livraison</th>\n",
       "      <th>depenses_totales</th>\n",
       "      <th>recence</th>\n",
       "    </tr>\n",
       "  </thead>\n",
       "  <tbody>\n",
       "    <tr>\n",
       "      <th>0</th>\n",
       "      <td>0</td>\n",
       "      <td>0.408883</td>\n",
       "      <td>-0.157750</td>\n",
       "      <td>-0.259266</td>\n",
       "      <td>0.180042</td>\n",
       "      <td>-0.169071</td>\n",
       "      <td>0.476077</td>\n",
       "    </tr>\n",
       "    <tr>\n",
       "      <th>1</th>\n",
       "      <td>1</td>\n",
       "      <td>-1.917462</td>\n",
       "      <td>-0.157750</td>\n",
       "      <td>-0.104275</td>\n",
       "      <td>0.758011</td>\n",
       "      <td>-0.017914</td>\n",
       "      <td>0.184072</td>\n",
       "    </tr>\n",
       "    <tr>\n",
       "      <th>2</th>\n",
       "      <td>2</td>\n",
       "      <td>0.347398</td>\n",
       "      <td>-0.157750</td>\n",
       "      <td>-0.221908</td>\n",
       "      <td>-0.894496</td>\n",
       "      <td>-0.271553</td>\n",
       "      <td>-1.255369</td>\n",
       "    </tr>\n",
       "    <tr>\n",
       "      <th>3</th>\n",
       "      <td>3</td>\n",
       "      <td>0.046727</td>\n",
       "      <td>5.273164</td>\n",
       "      <td>0.243073</td>\n",
       "      <td>0.071783</td>\n",
       "      <td>1.021812</td>\n",
       "      <td>-0.086730</td>\n",
       "    </tr>\n",
       "    <tr>\n",
       "      <th>4</th>\n",
       "      <td>4</td>\n",
       "      <td>-0.154043</td>\n",
       "      <td>-0.148738</td>\n",
       "      <td>2.442259</td>\n",
       "      <td>-0.065835</td>\n",
       "      <td>1.545562</td>\n",
       "      <td>0.131390</td>\n",
       "    </tr>\n",
       "  </tbody>\n",
       "</table>\n",
       "</div>"
      ],
      "text/plain": [
       "   index  note_moyenne_client  nb_commandes  nb_articles  temps_de_livraison  \\\n",
       "0      0             0.408883     -0.157750    -0.259266            0.180042   \n",
       "1      1            -1.917462     -0.157750    -0.104275            0.758011   \n",
       "2      2             0.347398     -0.157750    -0.221908           -0.894496   \n",
       "3      3             0.046727      5.273164     0.243073            0.071783   \n",
       "4      4            -0.154043     -0.148738     2.442259           -0.065835   \n",
       "\n",
       "   depenses_totales   recence  \n",
       "0         -0.169071  0.476077  \n",
       "1         -0.017914  0.184072  \n",
       "2         -0.271553 -1.255369  \n",
       "3          1.021812 -0.086730  \n",
       "4          1.545562  0.131390  "
      ]
     },
     "execution_count": 31,
     "metadata": {},
     "output_type": "execute_result"
    }
   ],
   "source": [
    "centre_clusters.head()"
   ]
  },
  {
   "cell_type": "code",
   "execution_count": 32,
   "metadata": {},
   "outputs": [],
   "source": [
    "centre_clusters.drop(columns=['index'], inplace=True)"
   ]
  },
  {
   "cell_type": "code",
   "execution_count": 33,
   "metadata": {},
   "outputs": [
    {
     "data": {
      "text/html": [
       "<div>\n",
       "<style scoped>\n",
       "    .dataframe tbody tr th:only-of-type {\n",
       "        vertical-align: middle;\n",
       "    }\n",
       "\n",
       "    .dataframe tbody tr th {\n",
       "        vertical-align: top;\n",
       "    }\n",
       "\n",
       "    .dataframe thead th {\n",
       "        text-align: right;\n",
       "    }\n",
       "</style>\n",
       "<table border=\"1\" class=\"dataframe\">\n",
       "  <thead>\n",
       "    <tr style=\"text-align: right;\">\n",
       "      <th></th>\n",
       "      <th>note_moyenne_client</th>\n",
       "      <th>nb_commandes</th>\n",
       "      <th>nb_articles</th>\n",
       "      <th>temps_de_livraison</th>\n",
       "      <th>depenses_totales</th>\n",
       "      <th>recence</th>\n",
       "    </tr>\n",
       "  </thead>\n",
       "  <tbody>\n",
       "    <tr>\n",
       "      <th>0</th>\n",
       "      <td>0.408883</td>\n",
       "      <td>-0.157750</td>\n",
       "      <td>-0.259266</td>\n",
       "      <td>0.180042</td>\n",
       "      <td>-0.169071</td>\n",
       "      <td>0.476077</td>\n",
       "    </tr>\n",
       "    <tr>\n",
       "      <th>1</th>\n",
       "      <td>-1.917462</td>\n",
       "      <td>-0.157750</td>\n",
       "      <td>-0.104275</td>\n",
       "      <td>0.758011</td>\n",
       "      <td>-0.017914</td>\n",
       "      <td>0.184072</td>\n",
       "    </tr>\n",
       "    <tr>\n",
       "      <th>2</th>\n",
       "      <td>0.347398</td>\n",
       "      <td>-0.157750</td>\n",
       "      <td>-0.221908</td>\n",
       "      <td>-0.894496</td>\n",
       "      <td>-0.271553</td>\n",
       "      <td>-1.255369</td>\n",
       "    </tr>\n",
       "    <tr>\n",
       "      <th>3</th>\n",
       "      <td>0.046727</td>\n",
       "      <td>5.273164</td>\n",
       "      <td>0.243073</td>\n",
       "      <td>0.071783</td>\n",
       "      <td>1.021812</td>\n",
       "      <td>-0.086730</td>\n",
       "    </tr>\n",
       "    <tr>\n",
       "      <th>4</th>\n",
       "      <td>-0.154043</td>\n",
       "      <td>-0.148738</td>\n",
       "      <td>2.442259</td>\n",
       "      <td>-0.065835</td>\n",
       "      <td>1.545562</td>\n",
       "      <td>0.131390</td>\n",
       "    </tr>\n",
       "  </tbody>\n",
       "</table>\n",
       "</div>"
      ],
      "text/plain": [
       "   note_moyenne_client  nb_commandes  nb_articles  temps_de_livraison  \\\n",
       "0             0.408883     -0.157750    -0.259266            0.180042   \n",
       "1            -1.917462     -0.157750    -0.104275            0.758011   \n",
       "2             0.347398     -0.157750    -0.221908           -0.894496   \n",
       "3             0.046727      5.273164     0.243073            0.071783   \n",
       "4            -0.154043     -0.148738     2.442259           -0.065835   \n",
       "\n",
       "   depenses_totales   recence  \n",
       "0         -0.169071  0.476077  \n",
       "1         -0.017914  0.184072  \n",
       "2         -0.271553 -1.255369  \n",
       "3          1.021812 -0.086730  \n",
       "4          1.545562  0.131390  "
      ]
     },
     "execution_count": 33,
     "metadata": {},
     "output_type": "execute_result"
    }
   ],
   "source": [
    "centre_clusters.head()"
   ]
  },
  {
   "cell_type": "code",
   "execution_count": 34,
   "metadata": {},
   "outputs": [],
   "source": [
    "color_pal = sns.color_palette(\"crest\", 5).as_hex()\n",
    "colors = ','.join(color_pal)"
   ]
  },
  {
   "cell_type": "code",
   "execution_count": 35,
   "metadata": {},
   "outputs": [
    {
     "data": {
      "image/png": "[encoded data removed]",
      "text/plain": [
       "<Figure size 800x700 with 6 Axes>"
      ]
     },
     "metadata": {},
     "output_type": "display_data"
    }
   ],
   "source": [
    "plt.figure(figsize=(8, 7))\n",
    "\n",
    "sns.set(font_scale=1.2)\n",
    "i = 0\n",
    "for var in [*features+log_features]:\n",
    "    ax = plt.subplot(3, 2, i+1)\n",
    "    sns.barplot(data=dataset_clients_sans_dates,\n",
    "                x='segments',\n",
    "                y=var, palette=color_pal)\n",
    "    i += 1\n",
    "plt.tight_layout()"
   ]
  },
  {
   "cell_type": "markdown",
   "metadata": {},
   "source": [
    "- **Cluster 0** : Dernier achat lointain, faibles dépenses, bonne note, temps de vraison moyen.**(Clients dormants)**\n",
    "- **Cluster 1** : Dernier achat lointain, faibles dépenses, clients insatisfaits. **(Clients à risk)**\n",
    "- **Cluster 2** : Dernier achat récent, faibles dépenses, livraison rapide.**(Nouveau clients)**\n",
    "- **Cluster 3** : Dernier achat relativement lrécent, dépenses élevées, temps de livraison moyen. **(Argent)**\n",
    "- **Cluster 4** : Dernier achat lointain, dépenses élevées, temps de livraison moyen, plus de 2 articles au panier.**(VIP)**"
   ]
  },
  {
   "cell_type": "code",
   "execution_count": null,
   "metadata": {},
   "outputs": [],
   "source": []
  }
 ],
 "metadata": {
  "kernelspec": {
   "display_name": "Python 3 (ipykernel)",
   "language": "python",
   "name": "python3"
  },
  "language_info": {
   "codemirror_mode": {
    "name": "ipython",
    "version": 3
   },
   "file_extension": ".py",
   "mimetype": "text/x-python",
   "name": "python",
   "nbconvert_exporter": "python",
   "pygments_lexer": "ipython3",
   "version": "3.9.13"
  },
  "vscode": {
   "interpreter": {
    "hash": "4e55d43e5768631f15695ab56bbdc3040489b8c436989183a4107de1952b094d"
   }
  }
 },
 "nbformat": 4,
 "nbformat_minor": 2
}
