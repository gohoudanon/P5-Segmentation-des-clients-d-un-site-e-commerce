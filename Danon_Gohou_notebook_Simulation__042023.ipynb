{
 "cells": [
  {
   "cell_type": "markdown",
   "metadata": {},
   "source": [
    "# Determination des période de maintenance"
   ]
  },
  {
   "cell_type": "markdown",
   "metadata": {},
   "source": [
    "\n",
    "\n",
    "# Sommaire:\n",
    "\n",
    "\n",
    "- **1. Importation des librairies**\n",
    "- **2. Datasets Commandes et clients** \n",
    "- **3. Pipeline de modelisation**\n",
    "- **4. Datasets d'entrainement et de prédictions**\n",
    "- **5. Détermination de la période de maintenance**\n",
    "\n",
    "\n",
    "***"
   ]
  },
  {
   "cell_type": "markdown",
   "metadata": {},
   "source": [
    "# 1. Importation des librairies"
   ]
  },
  {
   "cell_type": "code",
   "execution_count": 106,
   "metadata": {},
   "outputs": [],
   "source": [
    "import pandas as pd\n",
    "import numpy as np\n",
    "import matplotlib.pyplot as plt\n",
    "import seaborn as sns\n",
    "from functools import reduce\n",
    "\n",
    "from sklearn.compose import ColumnTransformer\n",
    "from sklearn.preprocessing import FunctionTransformer\n",
    "from sklearn.pipeline import Pipeline\n",
    "from sklearn.impute import SimpleImputer\n",
    "\n",
    "from yellowbrick.cluster import KElbowVisualizer, SilhouetteVisualizer\n",
    "from sklearn.cluster import AgglomerativeClustering\n",
    "from sklearn.cluster import KMeans\n",
    "from sklearn.metrics import silhouette_score\n",
    "from sklearn.preprocessing import StandardScaler\n",
    "from sklearn.metrics import davies_bouldin_score\n",
    "from sklearn.metrics import calinski_harabasz_score\n",
    "from sklearn.metrics import adjusted_rand_score"
   ]
  },
  {
   "cell_type": "markdown",
   "metadata": {},
   "source": [
    "# 2. Datasets Commandes et clients"
   ]
  },
  {
   "cell_type": "code",
   "execution_count": 107,
   "metadata": {},
   "outputs": [],
   "source": [
    "# Importation des données\n",
    "# Importation des données\n",
    "customers_df = pd.read_csv('olist_customers_dataset.csv', usecols=['customer_id',\n",
    "                                                                   'customer_unique_id',\n",
    "                                                                   'customer_state'])\n",
    "orders_df = pd.read_csv('olist_orders_dataset.csv', usecols=['order_id',\n",
    "                                                             'customer_id',\n",
    "                                                             'order_status',\n",
    "                                                             'order_purchase_timestamp',\n",
    "                                                             'order_approved_at',\n",
    "                                                             'order_delivered_customer_date',\n",
    "                                                             'order_estimated_delivery_date'])\n",
    "order_items_df = pd.read_csv('olist_order_items_dataset.csv', usecols=['order_id',\n",
    "                                                                       'price',\n",
    "                                                                       'product_id',\n",
    "                                                                       'order_item_id'])\n",
    "order_reviews_df = pd.read_csv('olist_order_reviews_dataset.csv', usecols=['order_id',\n",
    "                                                                           'review_score'])\n",
    "order_payments_df = pd.read_csv('olist_order_payments_dataset.csv', usecols=['order_id',\n",
    "                                                                             'payment_type',\n",
    "                                                                             'payment_value'])"
   ]
  },
  {
   "cell_type": "markdown",
   "metadata": {},
   "source": [
    "- ### Joindre les datasets"
   ]
  },
  {
   "cell_type": "code",
   "execution_count": 108,
   "metadata": {},
   "outputs": [],
   "source": [
    "# Jointure des données\n",
    "merge1 = [orders_df, order_items_df, order_reviews_df]\n",
    "merge2 = reduce(lambda left, right: pd.merge(\n",
    "    left, right, on='order_id', how='outer'), merge1)\n",
    "merge2 = pd.merge(merge2, customers_df, on='customer_id', how='outer')\n",
    "\n",
    "# Filtre des commandes annulées\n",
    "merge2 = merge2[(merge2.order_status != 'canceled') &\n",
    "                (merge2.order_status != 'unavailable')]\n",
    "\n",
    "# Mise au format Datetime des colonnes de dates\n",
    "date_variables = ['order_approved_at',\n",
    "                  'order_delivered_customer_date',\n",
    "                  'order_estimated_delivery_date']\n",
    "\n",
    "for i in date_variables:\n",
    "    merge2[i] = pd.to_datetime(merge2[i], errors='coerce').dt.normalize()\n",
    "\n",
    "# Création d'une colonne temps de livraison\n",
    "merge2['temps_de_livraison'] = (\n",
    "    merge2['order_delivered_customer_date'] - merge2['order_approved_at']).dt.days\n",
    "\n",
    "# Pour certaines valeurs, le temps de livraison est négatif\n",
    "merge2['temps_de_livraison'] = np.where(\n",
    "    merge2['temps_de_livraison'] < 0, 0, merge2['temps_de_livraison'])"
   ]
  },
  {
   "cell_type": "markdown",
   "metadata": {},
   "source": [
    "- ### Datasets Commandes et clients"
   ]
  },
  {
   "cell_type": "code",
   "execution_count": 109,
   "metadata": {},
   "outputs": [],
   "source": [
    "# Création du jeu de données par clients et par commande\n",
    "df_clients_et_commandes = merge2[['temps_de_livraison',\n",
    "                                  'customer_unique_id',\n",
    "                                  'price',\n",
    "                                  'product_id',\n",
    "                                  'review_score',\n",
    "                                  'order_id',\n",
    "                                  'order_approved_at',\n",
    "                                  'customer_state'\n",
    "                                  ]]\\\n",
    "    .groupby(['customer_unique_id', 'order_id'])\\\n",
    "    .agg({'temps_de_livraison': 'mean',\n",
    "          'review_score': 'mean',\n",
    "          'price': 'mean',\n",
    "          'order_approved_at': 'max',\n",
    "          'customer_state': 'max',\n",
    "          'product_id': 'count'})\n",
    "\n",
    "df_clients_et_commandes['Sum_tot'] = merge2[['customer_unique_id', 'order_id', 'price']].groupby(\n",
    "    ['customer_unique_id', 'order_id']).agg('sum')\n",
    "df_clients_et_commandes = df_clients_et_commandes.reset_index()"
   ]
  },
  {
   "cell_type": "markdown",
   "metadata": {},
   "source": [
    "- ### Dataset clients"
   ]
  },
  {
   "cell_type": "code",
   "execution_count": 110,
   "metadata": {},
   "outputs": [],
   "source": [
    "# Création du jeu de données par clients\n",
    "df_clients = df_clients_et_commandes.groupby('customer_unique_id')\\\n",
    "    .agg({'temps_de_livraison': 'mean',\n",
    "          'review_score': 'mean',\n",
    "          'order_approved_at': 'min',\n",
    "          'Sum_tot': 'sum'}).round(2)\n",
    "\n",
    "df_clients.columns = ['temps_de_livraison_moyen',\n",
    "                      'mean_review_score',\n",
    "                      'first_order',\n",
    "                      'total_expanse']\n",
    "\n",
    "# Date de la dernière commande\n",
    "df_clients['last_order'] = df_clients_et_commandes.groupby(\n",
    "    'customer_unique_id').agg({'order_approved_at': 'max'})\n",
    "\n",
    "# Récence (date du jour - date du dernier achat)\n",
    "df_clients['recency'] = (\n",
    "    df_clients[\"last_order\"].max() - df_clients['last_order']).dt.days\n",
    "\n",
    "# nombre de commande totale\n",
    "df_clients['nb_order'] = df_clients_et_commandes.groupby(\n",
    "    'customer_unique_id').agg({'order_id': 'count'})\n",
    "\n",
    "# nombre moyen d'article par panier\n",
    "df_clients['mean_nb_item'] = df_clients_et_commandes.groupby(\n",
    "    'customer_unique_id').agg({'product_id': 'mean'}).round(2)"
   ]
  },
  {
   "cell_type": "code",
   "execution_count": 111,
   "metadata": {},
   "outputs": [
    {
     "data": {
      "text/plain": [
       "(98207, 9)"
      ]
     },
     "execution_count": 111,
     "metadata": {},
     "output_type": "execute_result"
    }
   ],
   "source": [
    "df_clients_et_commandes.shape"
   ]
  },
  {
   "cell_type": "code",
   "execution_count": 112,
   "metadata": {},
   "outputs": [
    {
     "data": {
      "text/plain": [
       "(94990, 8)"
      ]
     },
     "execution_count": 112,
     "metadata": {},
     "output_type": "execute_result"
    }
   ],
   "source": [
    "df_clients.shape"
   ]
  },
  {
   "cell_type": "markdown",
   "metadata": {},
   "source": [
    "# 3. Pipeline de modélisation"
   ]
  },
  {
   "cell_type": "code",
   "execution_count": 113,
   "metadata": {},
   "outputs": [],
   "source": [
    "features = ['mean_review_score',\n",
    "            'nb_order',\n",
    "            'mean_nb_item']\n",
    "\n",
    "\n",
    "log_features = ['temps_de_livraison_moyen',\n",
    "                'total_expanse',\n",
    "                'recency']\n",
    "\n",
    "features_transformer = Pipeline(\n",
    "    steps=[(\"imputer\", SimpleImputer(strategy=\"median\")),\n",
    "           (\"scaler\", StandardScaler())]\n",
    ")\n",
    "\n",
    "logfeatures_transformer = Pipeline(\n",
    "    steps=[(\"imputer\", SimpleImputer(strategy=\"median\")),\n",
    "           (\"logTransformation\", FunctionTransformer(\n",
    "               lambda value: np.log1p(value))),\n",
    "           (\"scaler\", StandardScaler())]\n",
    ")\n",
    "\n",
    "\n",
    "preprocessor = ColumnTransformer(\n",
    "    transformers=[\n",
    "        (\"features\", features_transformer, features),\n",
    "        (\"log_features\", logfeatures_transformer, log_features),\n",
    "    ]\n",
    ")\n",
    "\n",
    "model_pipeline = Pipeline(steps=[('pre_processing', preprocessor),\n",
    "                                 ('kmeans', KMeans(random_state=0, n_clusters=6))\n",
    "                                 ])"
   ]
  },
  {
   "cell_type": "markdown",
   "metadata": {},
   "source": [
    "# 4. Création du dataframe de départ"
   ]
  },
  {
   "cell_type": "code",
   "execution_count": 114,
   "metadata": {},
   "outputs": [
    {
     "data": {
      "text/html": [
       "<div>\n",
       "<style scoped>\n",
       "    .dataframe tbody tr th:only-of-type {\n",
       "        vertical-align: middle;\n",
       "    }\n",
       "\n",
       "    .dataframe tbody tr th {\n",
       "        vertical-align: top;\n",
       "    }\n",
       "\n",
       "    .dataframe thead th {\n",
       "        text-align: right;\n",
       "    }\n",
       "</style>\n",
       "<table border=\"1\" class=\"dataframe\">\n",
       "  <thead>\n",
       "    <tr style=\"text-align: right;\">\n",
       "      <th></th>\n",
       "      <th>temps_de_livraison_moyen</th>\n",
       "      <th>mean_review_score</th>\n",
       "      <th>first_order</th>\n",
       "      <th>total_expanse</th>\n",
       "      <th>last_order</th>\n",
       "      <th>recency</th>\n",
       "      <th>nb_order</th>\n",
       "      <th>mean_nb_item</th>\n",
       "    </tr>\n",
       "    <tr>\n",
       "      <th>customer_unique_id</th>\n",
       "      <th></th>\n",
       "      <th></th>\n",
       "      <th></th>\n",
       "      <th></th>\n",
       "      <th></th>\n",
       "      <th></th>\n",
       "      <th></th>\n",
       "      <th></th>\n",
       "    </tr>\n",
       "  </thead>\n",
       "  <tbody>\n",
       "    <tr>\n",
       "      <th>0000366f3b9a7992bf8c76cfdf3221e2</th>\n",
       "      <td>6.0</td>\n",
       "      <td>5.0</td>\n",
       "      <td>2018-05-10</td>\n",
       "      <td>129.90</td>\n",
       "      <td>2018-05-10</td>\n",
       "      <td>116.0</td>\n",
       "      <td>1</td>\n",
       "      <td>1.0</td>\n",
       "    </tr>\n",
       "    <tr>\n",
       "      <th>0000b849f77a49e4a4ce2b2a4ca5be3f</th>\n",
       "      <td>3.0</td>\n",
       "      <td>4.0</td>\n",
       "      <td>2018-05-07</td>\n",
       "      <td>18.90</td>\n",
       "      <td>2018-05-07</td>\n",
       "      <td>119.0</td>\n",
       "      <td>1</td>\n",
       "      <td>1.0</td>\n",
       "    </tr>\n",
       "    <tr>\n",
       "      <th>0000f46a3911fa3c0805444483337064</th>\n",
       "      <td>26.0</td>\n",
       "      <td>3.0</td>\n",
       "      <td>2017-03-10</td>\n",
       "      <td>69.00</td>\n",
       "      <td>2017-03-10</td>\n",
       "      <td>542.0</td>\n",
       "      <td>1</td>\n",
       "      <td>1.0</td>\n",
       "    </tr>\n",
       "    <tr>\n",
       "      <th>0000f6ccb0745a6a4b88665a16c9f078</th>\n",
       "      <td>20.0</td>\n",
       "      <td>4.0</td>\n",
       "      <td>2017-10-12</td>\n",
       "      <td>25.99</td>\n",
       "      <td>2017-10-12</td>\n",
       "      <td>326.0</td>\n",
       "      <td>1</td>\n",
       "      <td>1.0</td>\n",
       "    </tr>\n",
       "    <tr>\n",
       "      <th>0004aac84e0df4da2b147fca70cf8255</th>\n",
       "      <td>13.0</td>\n",
       "      <td>5.0</td>\n",
       "      <td>2017-11-14</td>\n",
       "      <td>180.00</td>\n",
       "      <td>2017-11-14</td>\n",
       "      <td>293.0</td>\n",
       "      <td>1</td>\n",
       "      <td>1.0</td>\n",
       "    </tr>\n",
       "  </tbody>\n",
       "</table>\n",
       "</div>"
      ],
      "text/plain": [
       "                                  temps_de_livraison_moyen  mean_review_score  \\\n",
       "customer_unique_id                                                              \n",
       "0000366f3b9a7992bf8c76cfdf3221e2                       6.0                5.0   \n",
       "0000b849f77a49e4a4ce2b2a4ca5be3f                       3.0                4.0   \n",
       "0000f46a3911fa3c0805444483337064                      26.0                3.0   \n",
       "0000f6ccb0745a6a4b88665a16c9f078                      20.0                4.0   \n",
       "0004aac84e0df4da2b147fca70cf8255                      13.0                5.0   \n",
       "\n",
       "                                 first_order  total_expanse last_order  \\\n",
       "customer_unique_id                                                       \n",
       "0000366f3b9a7992bf8c76cfdf3221e2  2018-05-10         129.90 2018-05-10   \n",
       "0000b849f77a49e4a4ce2b2a4ca5be3f  2018-05-07          18.90 2018-05-07   \n",
       "0000f46a3911fa3c0805444483337064  2017-03-10          69.00 2017-03-10   \n",
       "0000f6ccb0745a6a4b88665a16c9f078  2017-10-12          25.99 2017-10-12   \n",
       "0004aac84e0df4da2b147fca70cf8255  2017-11-14         180.00 2017-11-14   \n",
       "\n",
       "                                  recency  nb_order  mean_nb_item  \n",
       "customer_unique_id                                                 \n",
       "0000366f3b9a7992bf8c76cfdf3221e2    116.0         1           1.0  \n",
       "0000b849f77a49e4a4ce2b2a4ca5be3f    119.0         1           1.0  \n",
       "0000f46a3911fa3c0805444483337064    542.0         1           1.0  \n",
       "0000f6ccb0745a6a4b88665a16c9f078    326.0         1           1.0  \n",
       "0004aac84e0df4da2b147fca70cf8255    293.0         1           1.0  "
      ]
     },
     "execution_count": 114,
     "metadata": {},
     "output_type": "execute_result"
    }
   ],
   "source": [
    "df_clients.head()"
   ]
  },
  {
   "cell_type": "code",
   "execution_count": 115,
   "metadata": {},
   "outputs": [
    {
     "data": {
      "text/html": [
       "<div>\n",
       "<style scoped>\n",
       "    .dataframe tbody tr th:only-of-type {\n",
       "        vertical-align: middle;\n",
       "    }\n",
       "\n",
       "    .dataframe tbody tr th {\n",
       "        vertical-align: top;\n",
       "    }\n",
       "\n",
       "    .dataframe thead th {\n",
       "        text-align: right;\n",
       "    }\n",
       "</style>\n",
       "<table border=\"1\" class=\"dataframe\">\n",
       "  <thead>\n",
       "    <tr style=\"text-align: right;\">\n",
       "      <th></th>\n",
       "      <th>customer_unique_id</th>\n",
       "      <th>order_id</th>\n",
       "      <th>temps_de_livraison</th>\n",
       "      <th>review_score</th>\n",
       "      <th>price</th>\n",
       "      <th>order_approved_at</th>\n",
       "      <th>customer_state</th>\n",
       "      <th>product_id</th>\n",
       "      <th>Sum_tot</th>\n",
       "    </tr>\n",
       "  </thead>\n",
       "  <tbody>\n",
       "    <tr>\n",
       "      <th>0</th>\n",
       "      <td>0000366f3b9a7992bf8c76cfdf3221e2</td>\n",
       "      <td>e22acc9c116caa3f2b7121bbb380d08e</td>\n",
       "      <td>6.0</td>\n",
       "      <td>5.0</td>\n",
       "      <td>129.90</td>\n",
       "      <td>2018-05-10</td>\n",
       "      <td>SP</td>\n",
       "      <td>1</td>\n",
       "      <td>129.90</td>\n",
       "    </tr>\n",
       "    <tr>\n",
       "      <th>1</th>\n",
       "      <td>0000b849f77a49e4a4ce2b2a4ca5be3f</td>\n",
       "      <td>3594e05a005ac4d06a72673270ef9ec9</td>\n",
       "      <td>3.0</td>\n",
       "      <td>4.0</td>\n",
       "      <td>18.90</td>\n",
       "      <td>2018-05-07</td>\n",
       "      <td>SP</td>\n",
       "      <td>1</td>\n",
       "      <td>18.90</td>\n",
       "    </tr>\n",
       "    <tr>\n",
       "      <th>2</th>\n",
       "      <td>0000f46a3911fa3c0805444483337064</td>\n",
       "      <td>b33ec3b699337181488304f362a6b734</td>\n",
       "      <td>26.0</td>\n",
       "      <td>3.0</td>\n",
       "      <td>69.00</td>\n",
       "      <td>2017-03-10</td>\n",
       "      <td>SC</td>\n",
       "      <td>1</td>\n",
       "      <td>69.00</td>\n",
       "    </tr>\n",
       "    <tr>\n",
       "      <th>3</th>\n",
       "      <td>0000f6ccb0745a6a4b88665a16c9f078</td>\n",
       "      <td>41272756ecddd9a9ed0180413cc22fb6</td>\n",
       "      <td>20.0</td>\n",
       "      <td>4.0</td>\n",
       "      <td>25.99</td>\n",
       "      <td>2017-10-12</td>\n",
       "      <td>PA</td>\n",
       "      <td>1</td>\n",
       "      <td>25.99</td>\n",
       "    </tr>\n",
       "    <tr>\n",
       "      <th>4</th>\n",
       "      <td>0004aac84e0df4da2b147fca70cf8255</td>\n",
       "      <td>d957021f1127559cd947b62533f484f7</td>\n",
       "      <td>13.0</td>\n",
       "      <td>5.0</td>\n",
       "      <td>180.00</td>\n",
       "      <td>2017-11-14</td>\n",
       "      <td>SP</td>\n",
       "      <td>1</td>\n",
       "      <td>180.00</td>\n",
       "    </tr>\n",
       "  </tbody>\n",
       "</table>\n",
       "</div>"
      ],
      "text/plain": [
       "                 customer_unique_id                          order_id  \\\n",
       "0  0000366f3b9a7992bf8c76cfdf3221e2  e22acc9c116caa3f2b7121bbb380d08e   \n",
       "1  0000b849f77a49e4a4ce2b2a4ca5be3f  3594e05a005ac4d06a72673270ef9ec9   \n",
       "2  0000f46a3911fa3c0805444483337064  b33ec3b699337181488304f362a6b734   \n",
       "3  0000f6ccb0745a6a4b88665a16c9f078  41272756ecddd9a9ed0180413cc22fb6   \n",
       "4  0004aac84e0df4da2b147fca70cf8255  d957021f1127559cd947b62533f484f7   \n",
       "\n",
       "   temps_de_livraison  review_score   price order_approved_at customer_state  \\\n",
       "0                 6.0           5.0  129.90        2018-05-10             SP   \n",
       "1                 3.0           4.0   18.90        2018-05-07             SP   \n",
       "2                26.0           3.0   69.00        2017-03-10             SC   \n",
       "3                20.0           4.0   25.99        2017-10-12             PA   \n",
       "4                13.0           5.0  180.00        2017-11-14             SP   \n",
       "\n",
       "   product_id  Sum_tot  \n",
       "0           1   129.90  \n",
       "1           1    18.90  \n",
       "2           1    69.00  \n",
       "3           1    25.99  \n",
       "4           1   180.00  "
      ]
     },
     "execution_count": 115,
     "metadata": {},
     "output_type": "execute_result"
    }
   ],
   "source": [
    "df_clients_et_commandes.head()"
   ]
  },
  {
   "cell_type": "code",
   "execution_count": 116,
   "metadata": {},
   "outputs": [],
   "source": [
    "# récupération des indes des clients présents du début à la fin de la periode d'analyse\n",
    "index_clients_debut_fin = df_clients[df_clients['first_order'] <\n",
    "                                     df_clients['last_order'].max() - pd.DateOffset(weeks=26)].index\n",
    "\n",
    "# Création du df pour le calcul de l'ARI\n",
    "df_ARI = df_clients_et_commandes.loc[df_clients_et_commandes['customer_unique_id'].isin(\n",
    "    index_clients_debut_fin)].copy()"
   ]
  },
  {
   "cell_type": "code",
   "execution_count": 117,
   "metadata": {},
   "outputs": [
    {
     "data": {
      "text/plain": [
       "Index(['0000f46a3911fa3c0805444483337064', '0000f6ccb0745a6a4b88665a16c9f078',\n",
       "       '0004aac84e0df4da2b147fca70cf8255', '00053a61a98854899e70ed204dd4bafe',\n",
       "       '0005e1862207bf6ccc02e4228effd9a0', '0006fdc98a402fceb4eb0ee528f6a8d4',\n",
       "       '00082cbe03e478190aadbea78542e933', '000a5ad9c4601d2bbdd9ed765d5213b3',\n",
       "       '000bfa1d2f1a41876493be685390d6d3', '000c8bdb58a29e7115cfc257230fb21b',\n",
       "       ...\n",
       "       'fff3a9369e4b7102fab406a334a678c3', 'fff699c184bcc967d62fa2c6171765f7',\n",
       "       'fff7219c86179ca6441b8f37823ba3d3', 'fffa431dd3fcdefea4b1777d114144f2',\n",
       "       'fffb09418989a0dbff854a28163e47c6', 'fffbf87b7a1a6fa8b03f081c5f51a201',\n",
       "       'fffcf5a5ff07b0908bd4e2dbc735a684', 'fffea47cd6d3cc0a88bd621562a9d061',\n",
       "       'ffff371b4d645b6ecea244b27531430a', 'ffffd2657e2aad2907e67c3e9daecbeb'],\n",
       "      dtype='object', name='customer_unique_id', length=57446)"
      ]
     },
     "execution_count": 117,
     "metadata": {},
     "output_type": "execute_result"
    }
   ],
   "source": [
    "index_clients_debut_fin"
   ]
  },
  {
   "cell_type": "code",
   "execution_count": 118,
   "metadata": {},
   "outputs": [
    {
     "data": {
      "text/html": [
       "<div>\n",
       "<style scoped>\n",
       "    .dataframe tbody tr th:only-of-type {\n",
       "        vertical-align: middle;\n",
       "    }\n",
       "\n",
       "    .dataframe tbody tr th {\n",
       "        vertical-align: top;\n",
       "    }\n",
       "\n",
       "    .dataframe thead th {\n",
       "        text-align: right;\n",
       "    }\n",
       "</style>\n",
       "<table border=\"1\" class=\"dataframe\">\n",
       "  <thead>\n",
       "    <tr style=\"text-align: right;\">\n",
       "      <th></th>\n",
       "      <th>customer_unique_id</th>\n",
       "      <th>order_id</th>\n",
       "      <th>temps_de_livraison</th>\n",
       "      <th>review_score</th>\n",
       "      <th>price</th>\n",
       "      <th>order_approved_at</th>\n",
       "      <th>customer_state</th>\n",
       "      <th>product_id</th>\n",
       "      <th>Sum_tot</th>\n",
       "    </tr>\n",
       "  </thead>\n",
       "  <tbody>\n",
       "    <tr>\n",
       "      <th>2</th>\n",
       "      <td>0000f46a3911fa3c0805444483337064</td>\n",
       "      <td>b33ec3b699337181488304f362a6b734</td>\n",
       "      <td>26.0</td>\n",
       "      <td>3.0</td>\n",
       "      <td>69.00</td>\n",
       "      <td>2017-03-10</td>\n",
       "      <td>SC</td>\n",
       "      <td>1</td>\n",
       "      <td>69.00</td>\n",
       "    </tr>\n",
       "    <tr>\n",
       "      <th>3</th>\n",
       "      <td>0000f6ccb0745a6a4b88665a16c9f078</td>\n",
       "      <td>41272756ecddd9a9ed0180413cc22fb6</td>\n",
       "      <td>20.0</td>\n",
       "      <td>4.0</td>\n",
       "      <td>25.99</td>\n",
       "      <td>2017-10-12</td>\n",
       "      <td>PA</td>\n",
       "      <td>1</td>\n",
       "      <td>25.99</td>\n",
       "    </tr>\n",
       "    <tr>\n",
       "      <th>4</th>\n",
       "      <td>0004aac84e0df4da2b147fca70cf8255</td>\n",
       "      <td>d957021f1127559cd947b62533f484f7</td>\n",
       "      <td>13.0</td>\n",
       "      <td>5.0</td>\n",
       "      <td>180.00</td>\n",
       "      <td>2017-11-14</td>\n",
       "      <td>SP</td>\n",
       "      <td>1</td>\n",
       "      <td>180.00</td>\n",
       "    </tr>\n",
       "    <tr>\n",
       "      <th>7</th>\n",
       "      <td>00053a61a98854899e70ed204dd4bafe</td>\n",
       "      <td>44e608f2db00c74a1fe329de44416a4e</td>\n",
       "      <td>16.0</td>\n",
       "      <td>1.0</td>\n",
       "      <td>191.00</td>\n",
       "      <td>2018-02-28</td>\n",
       "      <td>PR</td>\n",
       "      <td>2</td>\n",
       "      <td>382.00</td>\n",
       "    </tr>\n",
       "    <tr>\n",
       "      <th>8</th>\n",
       "      <td>0005e1862207bf6ccc02e4228effd9a0</td>\n",
       "      <td>ae76bef74b97bcb0b3e355e60d9a6f9c</td>\n",
       "      <td>5.0</td>\n",
       "      <td>4.0</td>\n",
       "      <td>135.00</td>\n",
       "      <td>2017-03-04</td>\n",
       "      <td>RJ</td>\n",
       "      <td>1</td>\n",
       "      <td>135.00</td>\n",
       "    </tr>\n",
       "  </tbody>\n",
       "</table>\n",
       "</div>"
      ],
      "text/plain": [
       "                 customer_unique_id                          order_id  \\\n",
       "2  0000f46a3911fa3c0805444483337064  b33ec3b699337181488304f362a6b734   \n",
       "3  0000f6ccb0745a6a4b88665a16c9f078  41272756ecddd9a9ed0180413cc22fb6   \n",
       "4  0004aac84e0df4da2b147fca70cf8255  d957021f1127559cd947b62533f484f7   \n",
       "7  00053a61a98854899e70ed204dd4bafe  44e608f2db00c74a1fe329de44416a4e   \n",
       "8  0005e1862207bf6ccc02e4228effd9a0  ae76bef74b97bcb0b3e355e60d9a6f9c   \n",
       "\n",
       "   temps_de_livraison  review_score   price order_approved_at customer_state  \\\n",
       "2                26.0           3.0   69.00        2017-03-10             SC   \n",
       "3                20.0           4.0   25.99        2017-10-12             PA   \n",
       "4                13.0           5.0  180.00        2017-11-14             SP   \n",
       "7                16.0           1.0  191.00        2018-02-28             PR   \n",
       "8                 5.0           4.0  135.00        2017-03-04             RJ   \n",
       "\n",
       "   product_id  Sum_tot  \n",
       "2           1    69.00  \n",
       "3           1    25.99  \n",
       "4           1   180.00  \n",
       "7           2   382.00  \n",
       "8           1   135.00  "
      ]
     },
     "execution_count": 118,
     "metadata": {},
     "output_type": "execute_result"
    }
   ],
   "source": [
    "df_ARI.head()"
   ]
  },
  {
   "cell_type": "code",
   "execution_count": 120,
   "metadata": {},
   "outputs": [],
   "source": [
    "# Dataframe date_debut_experience :\n",
    "date_debut_experience = (df_clients['last_order'].max() -\n",
    "                         pd.DateOffset(weeks=26)).strftime(\"%Y-%m-%d\")\n",
    "df_date_commande = df_ARI[df_ARI['order_approved_at'] < date_debut_experience]\n",
    "\n",
    "\n",
    "df_date_clients = df_date_commande.groupby('customer_unique_id')\\\n",
    "    .agg({'temps_de_livraison': 'mean',\n",
    "          'review_score': 'mean',\n",
    "          'order_approved_at': 'min',\n",
    "          'Sum_tot': 'sum'}).round(2)\n",
    "\n",
    "df_date_clients.columns = ['temps_de_livraison_moyen',\n",
    "                           'mean_review_score',\n",
    "                           'first_order',\n",
    "                           'total_expanse']\n",
    "\n",
    "\n",
    "# Date de la dernière commande\n",
    "df_date_clients['last_order'] = df_date_commande.groupby(\n",
    "    'customer_unique_id').agg({'order_approved_at': 'max'})\n",
    "\n",
    "# Recency : (date du jour - date du dernier achat)\n",
    "df_date_clients['recency'] = (\n",
    "    df_date_clients[\"last_order\"].max() - df_date_clients['last_order']).dt.days\n",
    "\n",
    "# Nb_order : nombre de commande totale\n",
    "df_date_clients['nb_order'] = df_date_commande.groupby(\n",
    "    'customer_unique_id').agg({'order_id': 'count'})\n",
    "\n",
    "# Mean_nb_item : nombre moyen d'article par panier\n",
    "df_date_clients['mean_nb_item'] = df_date_commande.groupby(\n",
    "    'customer_unique_id').agg({'product_id': 'mean'}).round(2)\n",
    "\n",
    "df_t0 = df_date_clients"
   ]
  },
  {
   "cell_type": "code",
   "execution_count": 121,
   "metadata": {},
   "outputs": [
    {
     "data": {
      "text/plain": [
       "'2018-03-05'"
      ]
     },
     "execution_count": 121,
     "metadata": {},
     "output_type": "execute_result"
    }
   ],
   "source": [
    "date_debut_experience"
   ]
  },
  {
   "cell_type": "markdown",
   "metadata": {},
   "source": [
    "# 5. Détermination de la période de maintenance"
   ]
  },
  {
   "cell_type": "code",
   "execution_count": 122,
   "metadata": {},
   "outputs": [],
   "source": [
    "# Création du dataframe d'entrainement\n",
    "entrainement = pd.DataFrame(model_pipeline.fit_predict(df_t0), columns=[date_debut_experience])\n",
    "# Création du dataframe de prédictions\n",
    "predictions = pd.DataFrame(model_pipeline.predict(df_t0), columns=[date_debut_experience])"
   ]
  },
  {
   "cell_type": "code",
   "execution_count": 123,
   "metadata": {},
   "outputs": [
    {
     "name": "stdout",
     "output_type": "stream",
     "text": [
      "1\n"
     ]
    }
   ],
   "source": [
    "print(len(predictions.columns))"
   ]
  },
  {
   "cell_type": "code",
   "execution_count": 124,
   "metadata": {},
   "outputs": [
    {
     "data": {
      "text/plain": [
       "'2018-03-05'"
      ]
     },
     "execution_count": 124,
     "metadata": {},
     "output_type": "execute_result"
    }
   ],
   "source": [
    "date_debut_experience"
   ]
  },
  {
   "cell_type": "code",
   "execution_count": 127,
   "metadata": {},
   "outputs": [],
   "source": [
    "for week in range(25, -1, -1):\n",
    "    # sauvegarde du temps de l'export :\n",
    "    date_debut_experience = (df_clients['last_order'].max(\n",
    "    ) - pd.DateOffset(weeks=week)).strftime(\"%Y-%m-%d\")\n",
    "\n",
    "    # création du dataframe contenant toutes les ventes de la première\n",
    "    # vente à la dernièrevente - semaine :\n",
    "    df_date_commande = df_ARI[df_ARI['order_approved_at']\n",
    "                              < date_debut_experience]\n",
    "\n",
    "    # création du dataframe regroupé par client\n",
    "    df_date_clients = df_date_commande.groupby('customer_unique_id')\\\n",
    "        .agg({'temps_de_livraison': 'mean',\n",
    "              'review_score': 'mean',\n",
    "              'order_approved_at': 'min',\n",
    "              'Sum_tot': 'sum'}).round(2)\n",
    "\n",
    "    df_date_clients.columns = ['temps_de_livraison_moyen',\n",
    "                               'mean_review_score',\n",
    "                               'first_order',\n",
    "                               'total_expanse']\n",
    "\n",
    "    # Date de la dernière commande\n",
    "    df_date_clients['last_order'] = df_date_commande.groupby(\n",
    "        'customer_unique_id').agg({'order_approved_at': 'max'})\n",
    "\n",
    "    # Recency : (date du jour - date du dernier achat)\n",
    "    df_date_clients['recency'] = (\n",
    "        df_date_clients[\"last_order\"].max() - df_date_clients['last_order']).dt.days\n",
    "\n",
    "    # Nb_order : nombre de commande totale\n",
    "    df_date_clients['nb_order'] = df_date_commande.groupby(\n",
    "        'customer_unique_id').agg({'order_id': 'count'})\n",
    "\n",
    "    # Mean_nb_item : nombre moyen d'article par panier\n",
    "    df_date_clients['mean_nb_item'] = df_date_commande.groupby(\n",
    "        'customer_unique_id').agg({'product_id': 'mean'}).round(2)\n",
    "\n",
    "    # Entrainement du modèle sur le df au temps n et Prédiction des clusters : stablitié des cluster\n",
    "    entrainement[date_debut_experience] = model_pipeline.fit_predict(\n",
    "        df_date_clients)\n",
    "    clusters_weeks[time_export] = model_pipeline.fit_predict(df_temp_customer)\n",
    "    # Prédiction des clusters du df_tn avec le modèle entrainé en T0 (-26 semaines) : contrat de maintenance\n",
    "    model_pipeline.fit(df_t0)\n",
    "    predictions[date_debut_experience] = model_pipeline.predict(\n",
    "        df_date_clients)"
   ]
  },
  {
   "cell_type": "code",
   "execution_count": 128,
   "metadata": {},
   "outputs": [],
   "source": [
    "ARI_kmeans = []\n",
    "ARI_kmeans2 = []\n",
    "\n",
    "\n",
    "for col in range(0, 26):\n",
    "    temp = adjusted_rand_score(\n",
    "        entrainement.iloc[:, col], entrainement.iloc[:, col+1])\n",
    "    ARI_kmeans.append(temp)\n",
    "\n",
    "    temp = adjusted_rand_score(\n",
    "        predictions.iloc[:, 0], predictions.iloc[:, col])\n",
    "    ARI_kmeans2.append(temp)\n",
    "\n",
    "\n",
    "stability = pd.DataFrame(ARI_kmeans, columns=[\"ARI\"])\n",
    "stability['date'] = list(entrainement.columns)[:-1]\n",
    "\n",
    "\n",
    "maintenance = pd.DataFrame(ARI_kmeans2, columns=[\"ARI\"])\n",
    "maintenance['date'] = list(predictions.columns)[:-1]"
   ]
  },
  {
   "cell_type": "code",
   "execution_count": 129,
   "metadata": {},
   "outputs": [
    {
     "data": {
      "text/html": [
       "<div>\n",
       "<style scoped>\n",
       "    .dataframe tbody tr th:only-of-type {\n",
       "        vertical-align: middle;\n",
       "    }\n",
       "\n",
       "    .dataframe tbody tr th {\n",
       "        vertical-align: top;\n",
       "    }\n",
       "\n",
       "    .dataframe thead th {\n",
       "        text-align: right;\n",
       "    }\n",
       "</style>\n",
       "<table border=\"1\" class=\"dataframe\">\n",
       "  <thead>\n",
       "    <tr style=\"text-align: right;\">\n",
       "      <th></th>\n",
       "      <th>Date</th>\n",
       "      <th>Score ARI</th>\n",
       "    </tr>\n",
       "  </thead>\n",
       "  <tbody>\n",
       "    <tr>\n",
       "      <th>0</th>\n",
       "      <td>2018-03-05</td>\n",
       "      <td>1.000000</td>\n",
       "    </tr>\n",
       "    <tr>\n",
       "      <th>1</th>\n",
       "      <td>2018-03-12</td>\n",
       "      <td>0.944112</td>\n",
       "    </tr>\n",
       "    <tr>\n",
       "      <th>2</th>\n",
       "      <td>2018-03-19</td>\n",
       "      <td>0.896501</td>\n",
       "    </tr>\n",
       "    <tr>\n",
       "      <th>3</th>\n",
       "      <td>2018-03-26</td>\n",
       "      <td>0.856869</td>\n",
       "    </tr>\n",
       "    <tr>\n",
       "      <th>4</th>\n",
       "      <td>2018-04-02</td>\n",
       "      <td>0.823673</td>\n",
       "    </tr>\n",
       "    <tr>\n",
       "      <th>5</th>\n",
       "      <td>2018-04-09</td>\n",
       "      <td>0.796754</td>\n",
       "    </tr>\n",
       "    <tr>\n",
       "      <th>6</th>\n",
       "      <td>2018-04-16</td>\n",
       "      <td>0.774485</td>\n",
       "    </tr>\n",
       "    <tr>\n",
       "      <th>7</th>\n",
       "      <td>2018-04-23</td>\n",
       "      <td>0.763656</td>\n",
       "    </tr>\n",
       "    <tr>\n",
       "      <th>8</th>\n",
       "      <td>2018-04-30</td>\n",
       "      <td>0.750184</td>\n",
       "    </tr>\n",
       "    <tr>\n",
       "      <th>9</th>\n",
       "      <td>2018-05-07</td>\n",
       "      <td>0.743029</td>\n",
       "    </tr>\n",
       "    <tr>\n",
       "      <th>10</th>\n",
       "      <td>2018-05-14</td>\n",
       "      <td>0.737938</td>\n",
       "    </tr>\n",
       "    <tr>\n",
       "      <th>11</th>\n",
       "      <td>2018-05-21</td>\n",
       "      <td>0.734608</td>\n",
       "    </tr>\n",
       "    <tr>\n",
       "      <th>12</th>\n",
       "      <td>2018-05-28</td>\n",
       "      <td>0.732080</td>\n",
       "    </tr>\n",
       "    <tr>\n",
       "      <th>13</th>\n",
       "      <td>2018-06-04</td>\n",
       "      <td>0.729838</td>\n",
       "    </tr>\n",
       "    <tr>\n",
       "      <th>14</th>\n",
       "      <td>2018-06-11</td>\n",
       "      <td>0.728144</td>\n",
       "    </tr>\n",
       "    <tr>\n",
       "      <th>15</th>\n",
       "      <td>2018-06-18</td>\n",
       "      <td>0.726796</td>\n",
       "    </tr>\n",
       "    <tr>\n",
       "      <th>16</th>\n",
       "      <td>2018-06-25</td>\n",
       "      <td>0.725597</td>\n",
       "    </tr>\n",
       "    <tr>\n",
       "      <th>17</th>\n",
       "      <td>2018-07-02</td>\n",
       "      <td>0.724139</td>\n",
       "    </tr>\n",
       "    <tr>\n",
       "      <th>18</th>\n",
       "      <td>2018-07-09</td>\n",
       "      <td>0.723192</td>\n",
       "    </tr>\n",
       "    <tr>\n",
       "      <th>19</th>\n",
       "      <td>2018-07-16</td>\n",
       "      <td>0.722147</td>\n",
       "    </tr>\n",
       "    <tr>\n",
       "      <th>20</th>\n",
       "      <td>2018-07-23</td>\n",
       "      <td>0.720964</td>\n",
       "    </tr>\n",
       "    <tr>\n",
       "      <th>21</th>\n",
       "      <td>2018-07-30</td>\n",
       "      <td>0.719979</td>\n",
       "    </tr>\n",
       "    <tr>\n",
       "      <th>22</th>\n",
       "      <td>2018-08-06</td>\n",
       "      <td>0.718800</td>\n",
       "    </tr>\n",
       "    <tr>\n",
       "      <th>23</th>\n",
       "      <td>2018-08-13</td>\n",
       "      <td>0.717514</td>\n",
       "    </tr>\n",
       "    <tr>\n",
       "      <th>24</th>\n",
       "      <td>2018-08-20</td>\n",
       "      <td>0.716640</td>\n",
       "    </tr>\n",
       "    <tr>\n",
       "      <th>25</th>\n",
       "      <td>2018-08-27</td>\n",
       "      <td>0.715900</td>\n",
       "    </tr>\n",
       "  </tbody>\n",
       "</table>\n",
       "</div>"
      ],
      "text/plain": [
       "          Date  Score ARI\n",
       "0   2018-03-05   1.000000\n",
       "1   2018-03-12   0.944112\n",
       "2   2018-03-19   0.896501\n",
       "3   2018-03-26   0.856869\n",
       "4   2018-04-02   0.823673\n",
       "5   2018-04-09   0.796754\n",
       "6   2018-04-16   0.774485\n",
       "7   2018-04-23   0.763656\n",
       "8   2018-04-30   0.750184\n",
       "9   2018-05-07   0.743029\n",
       "10  2018-05-14   0.737938\n",
       "11  2018-05-21   0.734608\n",
       "12  2018-05-28   0.732080\n",
       "13  2018-06-04   0.729838\n",
       "14  2018-06-11   0.728144\n",
       "15  2018-06-18   0.726796\n",
       "16  2018-06-25   0.725597\n",
       "17  2018-07-02   0.724139\n",
       "18  2018-07-09   0.723192\n",
       "19  2018-07-16   0.722147\n",
       "20  2018-07-23   0.720964\n",
       "21  2018-07-30   0.719979\n",
       "22  2018-08-06   0.718800\n",
       "23  2018-08-13   0.717514\n",
       "24  2018-08-20   0.716640\n",
       "25  2018-08-27   0.715900"
      ]
     },
     "execution_count": 129,
     "metadata": {},
     "output_type": "execute_result"
    }
   ],
   "source": [
    "# Créer un dataframe pour ARI_kmeans_stability\n",
    "maintenance_df = pd.DataFrame(\n",
    "    {'Date': predictions.columns[:-1], 'Score ARI': ARI_kmeans2})\n",
    "# Trier le dataframe par date\n",
    "ARI_df = maintenance_df.sort_values(by='Date')\n",
    "# Réinitialiser l'index\n",
    "ARI_df = ARI_df.reset_index(drop=True)\n",
    "ARI_df = pd.DataFrame(ARI_df)\n",
    "ARI_df"
   ]
  },
  {
   "cell_type": "code",
   "execution_count": 130,
   "metadata": {},
   "outputs": [
    {
     "data": {
      "image/png": "[encoded data removed]",
      "text/plain": [
       "<Figure size 1000x500 with 1 Axes>"
      ]
     },
     "metadata": {},
     "output_type": "display_data"
    }
   ],
   "source": [
    "plt.figure(figsize=(10, 5), dpi=100)\n",
    "sns.set_style('darkgrid')\n",
    "sns.lineplot(data=stability, x='date', y='ARI',\n",
    "             marker=\"s\", color='blue', label='Stability')\n",
    "sns.lineplot(data=maintenance, x='date', y='ARI',\n",
    "             marker=\"s\", color='purple', label='Maintenance')\n",
    "plt.xlabel(\"Période de prédictions\")\n",
    "plt.xticks(rotation=90, ha='right')\n",
    "plt.ylabel(\"Adjusted Rand Index\")\n",
    "plt.title(\"Évolution de la stabilité des clusters pendant les 26 dernières semaines\", fontsize=14)\n",
    "plt.legend(frameon=True)\n",
    "plt.ylim(0.5, 1.06)\n",
    "plt.show()"
   ]
  },
  {
   "cell_type": "markdown",
   "metadata": {},
   "source": [
    "### **Remarques**\n",
    "- La courbe de maintenance (scores ARI) du modèle de segmentation commence à 1 et décroît sur les 12 premiere semaines pour se stabiliser à 0.7 sur la période restante. Cela signifie que notre modèle a bien fonctionné initialement mais qu'il est maintenant devenu moins performant.\n",
    "- La qualité de la segmentation est moins stable sur des données que le modèle n'a jamais vu auparavant.\n",
    "- Nous recommandons donc la réévaluation de l'algorithme pour trouver la meilleure configuration.\n"
   ]
  },
  {
   "cell_type": "code",
   "execution_count": 1,
   "metadata": {},
   "outputs": [
    {
     "name": "stdout",
     "output_type": "stream",
     "text": [
      "Requirement already satisfied: autopep8 in /Users/danongohou/opt/anaconda3/lib/python3.9/site-packages (1.6.0)\n",
      "Requirement already satisfied: pycodestyle>=2.8.0 in /Users/danongohou/opt/anaconda3/lib/python3.9/site-packages (from autopep8) (2.8.0)\n",
      "Requirement already satisfied: toml in /Users/danongohou/opt/anaconda3/lib/python3.9/site-packages (from autopep8) (0.10.2)\n",
      "Note: you may need to restart the kernel to use updated packages.\n"
     ]
    }
   ],
   "source": [
    "pip install autopep8"
   ]
  },
  {
   "cell_type": "code",
   "execution_count": null,
   "metadata": {},
   "outputs": [],
   "source": []
  }
 ],
 "metadata": {
  "kernelspec": {
   "display_name": "Python 3 (ipykernel)",
   "language": "python",
   "name": "python3"
  },
  "language_info": {
   "codemirror_mode": {
    "name": "ipython",
    "version": 3
   },
   "file_extension": ".py",
   "mimetype": "text/x-python",
   "name": "python",
   "nbconvert_exporter": "python",
   "pygments_lexer": "ipython3",
   "version": "3.9.13"
  },
  "vscode": {
   "interpreter": {
    "hash": "4e55d43e5768631f15695ab56bbdc3040489b8c436989183a4107de1952b094d"
   }
  }
 },
 "nbformat": 4,
 "nbformat_minor": 2
}
